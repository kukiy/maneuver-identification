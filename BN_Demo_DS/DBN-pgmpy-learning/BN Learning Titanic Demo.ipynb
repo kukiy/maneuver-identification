{
 "cells": [
  {
   "cell_type": "markdown",
   "source": [
    "## 参考CSDN的帖子进行学习，地址如下：https://blog.csdn.net/leida_wt/article/details/88743323#_15"
   ],
   "metadata": {
    "collapsed": false,
    "pycharm": {
     "name": "#%% md\n"
    }
   }
  },
  {
   "cell_type": "code",
   "execution_count": 1,
   "metadata": {
    "collapsed": true
   },
   "outputs": [],
   "source": [
    "import pandas as pd\n",
    "train = pd.read_csv('Titanic-Data/train.csv')\n",
    "test = pd.read_csv('Titanic-Data/test.csv')\n",
    "\n",
    "full=pd.concat([train,test],ignore_index=True)"
   ]
  },
  {
   "cell_type": "code",
   "execution_count": 2,
   "outputs": [
    {
     "data": {
      "text/plain": "   PassengerId  Survived  Pclass  \\\n0            1       0.0       3   \n1            2       1.0       1   \n2            3       1.0       3   \n3            4       1.0       1   \n4            5       0.0       3   \n5            6       0.0       3   \n6            7       0.0       1   \n7            8       0.0       3   \n8            9       1.0       3   \n9           10       1.0       2   \n\n                                                Name     Sex   Age  SibSp  \\\n0                            Braund, Mr. Owen Harris    male  22.0      1   \n1  Cumings, Mrs. John Bradley (Florence Briggs Th...  female  38.0      1   \n2                             Heikkinen, Miss. Laina  female  26.0      0   \n3       Futrelle, Mrs. Jacques Heath (Lily May Peel)  female  35.0      1   \n4                           Allen, Mr. William Henry    male  35.0      0   \n5                                   Moran, Mr. James    male   NaN      0   \n6                            McCarthy, Mr. Timothy J    male  54.0      0   \n7                     Palsson, Master. Gosta Leonard    male   2.0      3   \n8  Johnson, Mrs. Oscar W (Elisabeth Vilhelmina Berg)  female  27.0      0   \n9                Nasser, Mrs. Nicholas (Adele Achem)  female  14.0      1   \n\n   Parch            Ticket     Fare Cabin Embarked  \n0      0         A/5 21171   7.2500   NaN        S  \n1      0          PC 17599  71.2833   C85        C  \n2      0  STON/O2. 3101282   7.9250   NaN        S  \n3      0            113803  53.1000  C123        S  \n4      0            373450   8.0500   NaN        S  \n5      0            330877   8.4583   NaN        Q  \n6      0             17463  51.8625   E46        S  \n7      1            349909  21.0750   NaN        S  \n8      2            347742  11.1333   NaN        S  \n9      0            237736  30.0708   NaN        C  ",
      "text/html": "<div>\n<style scoped>\n    .dataframe tbody tr th:only-of-type {\n        vertical-align: middle;\n    }\n\n    .dataframe tbody tr th {\n        vertical-align: top;\n    }\n\n    .dataframe thead th {\n        text-align: right;\n    }\n</style>\n<table border=\"1\" class=\"dataframe\">\n  <thead>\n    <tr style=\"text-align: right;\">\n      <th></th>\n      <th>PassengerId</th>\n      <th>Survived</th>\n      <th>Pclass</th>\n      <th>Name</th>\n      <th>Sex</th>\n      <th>Age</th>\n      <th>SibSp</th>\n      <th>Parch</th>\n      <th>Ticket</th>\n      <th>Fare</th>\n      <th>Cabin</th>\n      <th>Embarked</th>\n    </tr>\n  </thead>\n  <tbody>\n    <tr>\n      <th>0</th>\n      <td>1</td>\n      <td>0.0</td>\n      <td>3</td>\n      <td>Braund, Mr. Owen Harris</td>\n      <td>male</td>\n      <td>22.0</td>\n      <td>1</td>\n      <td>0</td>\n      <td>A/5 21171</td>\n      <td>7.2500</td>\n      <td>NaN</td>\n      <td>S</td>\n    </tr>\n    <tr>\n      <th>1</th>\n      <td>2</td>\n      <td>1.0</td>\n      <td>1</td>\n      <td>Cumings, Mrs. John Bradley (Florence Briggs Th...</td>\n      <td>female</td>\n      <td>38.0</td>\n      <td>1</td>\n      <td>0</td>\n      <td>PC 17599</td>\n      <td>71.2833</td>\n      <td>C85</td>\n      <td>C</td>\n    </tr>\n    <tr>\n      <th>2</th>\n      <td>3</td>\n      <td>1.0</td>\n      <td>3</td>\n      <td>Heikkinen, Miss. Laina</td>\n      <td>female</td>\n      <td>26.0</td>\n      <td>0</td>\n      <td>0</td>\n      <td>STON/O2. 3101282</td>\n      <td>7.9250</td>\n      <td>NaN</td>\n      <td>S</td>\n    </tr>\n    <tr>\n      <th>3</th>\n      <td>4</td>\n      <td>1.0</td>\n      <td>1</td>\n      <td>Futrelle, Mrs. Jacques Heath (Lily May Peel)</td>\n      <td>female</td>\n      <td>35.0</td>\n      <td>1</td>\n      <td>0</td>\n      <td>113803</td>\n      <td>53.1000</td>\n      <td>C123</td>\n      <td>S</td>\n    </tr>\n    <tr>\n      <th>4</th>\n      <td>5</td>\n      <td>0.0</td>\n      <td>3</td>\n      <td>Allen, Mr. William Henry</td>\n      <td>male</td>\n      <td>35.0</td>\n      <td>0</td>\n      <td>0</td>\n      <td>373450</td>\n      <td>8.0500</td>\n      <td>NaN</td>\n      <td>S</td>\n    </tr>\n    <tr>\n      <th>5</th>\n      <td>6</td>\n      <td>0.0</td>\n      <td>3</td>\n      <td>Moran, Mr. James</td>\n      <td>male</td>\n      <td>NaN</td>\n      <td>0</td>\n      <td>0</td>\n      <td>330877</td>\n      <td>8.4583</td>\n      <td>NaN</td>\n      <td>Q</td>\n    </tr>\n    <tr>\n      <th>6</th>\n      <td>7</td>\n      <td>0.0</td>\n      <td>1</td>\n      <td>McCarthy, Mr. Timothy J</td>\n      <td>male</td>\n      <td>54.0</td>\n      <td>0</td>\n      <td>0</td>\n      <td>17463</td>\n      <td>51.8625</td>\n      <td>E46</td>\n      <td>S</td>\n    </tr>\n    <tr>\n      <th>7</th>\n      <td>8</td>\n      <td>0.0</td>\n      <td>3</td>\n      <td>Palsson, Master. Gosta Leonard</td>\n      <td>male</td>\n      <td>2.0</td>\n      <td>3</td>\n      <td>1</td>\n      <td>349909</td>\n      <td>21.0750</td>\n      <td>NaN</td>\n      <td>S</td>\n    </tr>\n    <tr>\n      <th>8</th>\n      <td>9</td>\n      <td>1.0</td>\n      <td>3</td>\n      <td>Johnson, Mrs. Oscar W (Elisabeth Vilhelmina Berg)</td>\n      <td>female</td>\n      <td>27.0</td>\n      <td>0</td>\n      <td>2</td>\n      <td>347742</td>\n      <td>11.1333</td>\n      <td>NaN</td>\n      <td>S</td>\n    </tr>\n    <tr>\n      <th>9</th>\n      <td>10</td>\n      <td>1.0</td>\n      <td>2</td>\n      <td>Nasser, Mrs. Nicholas (Adele Achem)</td>\n      <td>female</td>\n      <td>14.0</td>\n      <td>1</td>\n      <td>0</td>\n      <td>237736</td>\n      <td>30.0708</td>\n      <td>NaN</td>\n      <td>C</td>\n    </tr>\n  </tbody>\n</table>\n</div>"
     },
     "execution_count": 2,
     "metadata": {},
     "output_type": "execute_result"
    }
   ],
   "source": [
    "full.head(10)"
   ],
   "metadata": {
    "collapsed": false,
    "pycharm": {
     "name": "#%%\n"
    }
   }
  },
  {
   "cell_type": "code",
   "execution_count": 3,
   "outputs": [
    {
     "name": "stdout",
     "output_type": "stream",
     "text": [
      "<class 'pandas.core.frame.DataFrame'>\n",
      "RangeIndex: 1309 entries, 0 to 1308\n",
      "Data columns (total 12 columns):\n",
      " #   Column       Non-Null Count  Dtype  \n",
      "---  ------       --------------  -----  \n",
      " 0   PassengerId  1309 non-null   int64  \n",
      " 1   Survived     891 non-null    float64\n",
      " 2   Pclass       1309 non-null   int64  \n",
      " 3   Name         1309 non-null   object \n",
      " 4   Sex          1309 non-null   object \n",
      " 5   Age          1046 non-null   float64\n",
      " 6   SibSp        1309 non-null   int64  \n",
      " 7   Parch        1309 non-null   int64  \n",
      " 8   Ticket       1309 non-null   object \n",
      " 9   Fare         1308 non-null   float64\n",
      " 10  Cabin        295 non-null    object \n",
      " 11  Embarked     1307 non-null   object \n",
      "dtypes: float64(3), int64(4), object(5)\n",
      "memory usage: 122.8+ KB\n"
     ]
    }
   ],
   "source": [
    "full.info()"
   ],
   "metadata": {
    "collapsed": false,
    "pycharm": {
     "name": "#%%\n"
    }
   }
  },
  {
   "cell_type": "code",
   "execution_count": 4,
   "outputs": [
    {
     "data": {
      "text/plain": "array(['S', 'C', 'Q', nan], dtype=object)"
     },
     "execution_count": 4,
     "metadata": {},
     "output_type": "execute_result"
    }
   ],
   "source": [
    "full['Embarked'].unique()"
   ],
   "metadata": {
    "collapsed": false,
    "pycharm": {
     "name": "#%%\n"
    }
   }
  },
  {
   "cell_type": "code",
   "source": [
    "full['Embarked'].value_counts()"
   ],
   "metadata": {
    "collapsed": false,
    "pycharm": {
     "name": "#%%\n"
    }
   },
   "execution_count": 5,
   "outputs": [
    {
     "data": {
      "text/plain": "S    914\nC    270\nQ    123\nName: Embarked, dtype: int64"
     },
     "execution_count": 5,
     "metadata": {},
     "output_type": "execute_result"
    }
   ]
  },
  {
   "cell_type": "code",
   "execution_count": 6,
   "outputs": [],
   "source": [
    "# Embarked 共有889个数据，2个取值为空，特征取值为 S 664; C 168; Q 77 因此采取众数的填充方法\n",
    "full['Embarked'].fillna('S',inplace=True)\n",
    "# train.info()  # Embarked     891 non-null    object"
   ],
   "metadata": {
    "collapsed": false,
    "pycharm": {
     "name": "#%%\n"
    }
   }
  },
  {
   "cell_type": "code",
   "execution_count": 7,
   "outputs": [],
   "source": [
    "# Cabin        204 non-null    object 缺失严重，有船舱号的为1，没有船舱信息的为0\n",
    "full.loc[full.Cabin.notnull(),'Cabin']=1\n",
    "full.loc[full.Cabin.isnull(),'Cabin']=0"
   ],
   "metadata": {
    "collapsed": false,
    "pycharm": {
     "name": "#%%\n"
    }
   }
  },
  {
   "cell_type": "code",
   "execution_count": 8,
   "outputs": [],
   "source": [
    "full.Fare.fillna(full[full.Pclass==3]['Fare'].median(),inplace=True)"
   ],
   "metadata": {
    "collapsed": false,
    "pycharm": {
     "name": "#%%\n"
    }
   }
  },
  {
   "cell_type": "code",
   "execution_count": 9,
   "outputs": [],
   "source": [
    "# loc[]，中的参数，为一列 bool 的array。或者具体的行名称名称， 二维参数为：列名称\n",
    "full.loc[full.Cabin.notnull(),'Cabin']=1\n",
    "full.loc[full.Cabin.isnull(),'Cabin']=0\n",
    "full.loc[full['Sex']=='male','Sex']=1\n",
    "full.loc[full['Sex']=='female','Sex']=0"
   ],
   "metadata": {
    "collapsed": false,
    "pycharm": {
     "name": "#%%\n"
    }
   }
  },
  {
   "cell_type": "code",
   "execution_count": 10,
   "outputs": [
    {
     "data": {
      "text/plain": "0                                 Braund, Mr. Owen Harris\n1       Cumings, Mrs. John Bradley (Florence Briggs Th...\n2                                  Heikkinen, Miss. Laina\n3            Futrelle, Mrs. Jacques Heath (Lily May Peel)\n4                                Allen, Mr. William Henry\n                              ...                        \n1304                                   Spector, Mr. Woolf\n1305                         Oliva y Ocana, Dona. Fermina\n1306                         Saether, Mr. Simon Sivertsen\n1307                                  Ware, Mr. Frederick\n1308                             Peter, Master. Michael J\nName: Name, Length: 1309, dtype: object"
     },
     "execution_count": 10,
     "metadata": {},
     "output_type": "execute_result"
    }
   ],
   "source": [
    "full['Name']"
   ],
   "metadata": {
    "collapsed": false,
    "pycharm": {
     "name": "#%%\n"
    }
   }
  },
  {
   "cell_type": "code",
   "execution_count": 11,
   "outputs": [
    {
     "data": {
      "text/plain": "0           Mr\n1          Mrs\n2         Miss\n3          Mrs\n4           Mr\n         ...  \n1304        Mr\n1305      Dona\n1306        Mr\n1307        Mr\n1308    Master\nName: Name, Length: 1309, dtype: object"
     },
     "execution_count": 11,
     "metadata": {},
     "output_type": "execute_result"
    }
   ],
   "source": [
    "# 以,号切分选取后面的字符，紧接着用 . 切分选取前面部分，最后去除全部字符，如前后空格逗号等。\n",
    "full['Name'].apply(lambda x: x.split(',')[1].split('.')[0].strip())"
   ],
   "metadata": {
    "collapsed": false,
    "pycharm": {
     "name": "#%%\n"
    }
   }
  },
  {
   "cell_type": "code",
   "execution_count": 12,
   "outputs": [],
   "source": [
    "full['Title']=full['Name'].apply(lambda x: x.split(',')[1].split('.')[0].strip())\n",
    "nn={'Capt':'Rareman', 'Col':'Rareman','Don':'Rareman','Dona':'Rarewoman',\n",
    "    'Dr':'Rareman','Jonkheer':'Rareman','Lady':'Rarewoman','Major':'Rareman',\n",
    "    'Master':'Master','Miss':'Miss','Mlle':'Rarewoman','Mme':'Rarewoman',\n",
    "    'Mr':'Mr','Mrs':'Mrs','Ms':'Rarewoman','Rev':'Mr','Sir':'Rareman',\n",
    "    'the Countess':'Rarewoman'}\n",
    "\n",
    "# map()函数可以用于Series对象或DataFrame对象的一列，接收函数作为或字典对象作为参数，返回经过函数或字典映射处理后的值。\n",
    "\n",
    "full.Title=full.Title.map(nn)\n",
    "# assign the female 'Dr' to 'Rarewoman'\n",
    "full.loc[full.PassengerId==797,'Title']='Rarewoman'\n",
    "full.Age.fillna(999,inplace=True)\n",
    "def girl(aa):\n",
    "    if (aa.Age!=999)&(aa.Title=='Miss')&(aa.Age<=14):\n",
    "        return 'Girl'\n",
    "    elif (aa.Age==999)&(aa.Title=='Miss')&(aa.Parch!=0):\n",
    "        return 'Girl'\n",
    "    else:\n",
    "        return aa.Title\n"
   ],
   "metadata": {
    "collapsed": false,
    "pycharm": {
     "name": "#%%\n"
    }
   }
  },
  {
   "cell_type": "code",
   "execution_count": 13,
   "outputs": [],
   "source": [
    "# 回到主题， pandas 的 apply() 函数可以作用于 Series 或者整个 DataFrame，功能也是自动遍历整个 Series 或者 DataFrame, 对每一个元素运行指定的函数。\n",
    "full['Title']=full.apply(girl,axis=1)"
   ],
   "metadata": {
    "collapsed": false,
    "pycharm": {
     "name": "#%%\n"
    }
   }
  },
  {
   "cell_type": "code",
   "execution_count": 14,
   "outputs": [],
   "source": [
    "Tit=['Mr','Miss','Mrs','Master','Girl','Rareman','Rarewoman']\n",
    "for i in Tit:\n",
    "    full.loc[(full.Age==999)&(full.Title==i),'Age']=full.loc[full.Title==i,'Age'].median()\n",
    "\n",
    "full.loc[full['Age']<=15,'Age']=0\n",
    "full.loc[(full['Age']>15)&(full['Age']<55),'Age']=1\n",
    "full.loc[full['Age']>=55,'Age']=2\n",
    "full['Pclass']=full['Pclass']-1\n"
   ],
   "metadata": {
    "collapsed": false,
    "pycharm": {
     "name": "#%%\n"
    }
   }
  },
  {
   "cell_type": "code",
   "source": [
    "'''\n",
    "dataframe的切片取值方法一：\n",
    "    full.iloc[0,3]             index location 参数必须为：int\n",
    "    full.loc[0,'Name']         location 参数必须为： 行和列的具体名称或者 boolean的array\n",
    "\n",
    "dataframe的切片取值方法二：仅对整列取值有此方法——  返回 pandas.core.series.Series 对象。\n",
    "    dataframe.column_name\n",
    "    dataframe['column_name']\n",
    "'''"
   ],
   "metadata": {
    "collapsed": false,
    "pycharm": {
     "name": "#%%\n"
    }
   },
   "execution_count": 15,
   "outputs": [
    {
     "data": {
      "text/plain": "\"\\ndataframe的切片取值方法一：\\n    full.iloc[0,3]             index location 参数必须为：int\\n    full.loc[0,'Name']         location 参数必须为： 行和列的具体名称或者 boolean的array\\n\\ndataframe的切片取值方法二：仅对整列取值有此方法——  返回 pandas.core.series.Series 对象。\\n    dataframe.column_name\\n    dataframe['column_name']\\n\""
     },
     "execution_count": 15,
     "metadata": {},
     "output_type": "execute_result"
    }
   ]
  },
  {
   "cell_type": "code",
   "execution_count": 16,
   "outputs": [
    {
     "data": {
      "text/plain": "'\\n总结如下：\\nPassengerId => 乘客ID\\nPclass => 客舱等级(1/2/3等舱位)\\nName => 乘客姓名\\nSex => 性别 清洗成male=1 female=0\\nAge => 年龄 插补后分0,1,2 代表 幼年（0-15） 成年（15-55） 老年（55-）\\nSibSp => 兄弟姐妹数/配偶数\\nParch => 父母数/子女数\\nTicket => 船票编号\\nFare => 船票价格 经聚类变0 1 2 代表少 多 很多\\nCabin => 客舱号 清洗成有无此项，并发现有的生存率高，有船舱号的为1，没有船舱信息的为0\\nEmbarked => 登船港口 清洗na,填S\\n'"
     },
     "execution_count": 16,
     "metadata": {},
     "output_type": "execute_result"
    }
   ],
   "source": [
    "'''\n",
    "总结如下：\n",
    "PassengerId => 乘客ID\n",
    "Pclass => 客舱等级(1/2/3等舱位)\n",
    "Name => 乘客姓名\n",
    "Sex => 性别 清洗成male=1 female=0\n",
    "Age => 年龄 插补后分0,1,2 代表 幼年（0-15） 成年（15-55） 老年（55-）\n",
    "SibSp => 兄弟姐妹数/配偶数\n",
    "Parch => 父母数/子女数\n",
    "Ticket => 船票编号\n",
    "Fare => 船票价格 经聚类变0 1 2 代表少 多 很多\n",
    "Cabin => 客舱号 清洗成有无此项，并发现有的生存率高，有船舱号的为1，没有船舱信息的为0\n",
    "Embarked => 登船港口 清洗na,填S\n",
    "'''\n"
   ],
   "metadata": {
    "collapsed": false,
    "pycharm": {
     "name": "#%%\n"
    }
   }
  },
  {
   "cell_type": "code",
   "execution_count": 17,
   "outputs": [
    {
     "data": {
      "text/plain": "'\\n最后保留如下项目,并切出800的训练集：\\nPclass => 客舱等级(0/1/2等舱位)\\nSex => 性别 male=1 female=0\\nAge => 年龄 插补后分0,1,2 代表 幼年（0-15） 成年（15-55） 老年（55-）\\nFare => 船票价格 经聚类变0 1 2 代表少 多 很多\\nCabin => 客舱号 清洗成有无此项，并发现有的生存率高\\n'"
     },
     "execution_count": 17,
     "metadata": {},
     "output_type": "execute_result"
    }
   ],
   "source": [
    "from sklearn.cluster import KMeans\n",
    "Fare=full['Fare'].values\n",
    "Fare=Fare.reshape(-1,1)\n",
    "km = KMeans(n_clusters=3).fit(Fare)   #将数据集分为2类\n",
    "Fare = km.fit_predict(Fare)\n",
    "full['Fare']=Fare\n",
    "full['Fare']=full['Fare'].astype(int)\n",
    "full['Age']=full['Age'].astype(int)\n",
    "full['Cabin']=full['Cabin'].astype(int)\n",
    "full['Pclass']=full['Pclass'].astype(int)\n",
    "full['Sex']=full['Sex'].astype(int)\n",
    "#full['Survived']=full['Survived'].astype(int)\n",
    "dataset=full.drop(columns=['Embarked','Name','Parch','PassengerId','SibSp','Ticket','Title'])\n",
    "dataset.dropna(inplace=True)\n",
    "dataset['Survived']=dataset['Survived'].astype(int)\n",
    "#dataset=pd.concat([dataset, pd.DataFrame(columns=['Pri'])])\n",
    "train=dataset[:800]\n",
    "test=dataset[800:]\n",
    "'''\n",
    "最后保留如下项目,并切出800的训练集：\n",
    "Pclass => 客舱等级(0/1/2等舱位)\n",
    "Sex => 性别 male=1 female=0\n",
    "Age => 年龄 插补后分0,1,2 代表 幼年（0-15） 成年（15-55） 老年（55-）\n",
    "Fare => 船票价格 经聚类变0 1 2 代表少 多 很多\n",
    "Cabin => 客舱号 清洗成有无此项，并发现有的生存率高\n",
    "'''"
   ],
   "metadata": {
    "collapsed": false,
    "pycharm": {
     "name": "#%%\n"
    }
   }
  },
  {
   "cell_type": "markdown",
   "source": [
    "# 构建模型"
   ],
   "metadata": {
    "collapsed": false,
    "pycharm": {
     "name": "#%% md\n"
    }
   }
  },
  {
   "cell_type": "code",
   "execution_count": 18,
   "outputs": [],
   "source": [
    "from pgmpy.models import BayesianNetwork\n",
    "from pgmpy.estimators import BayesianEstimator\n",
    "\n",
    "#model = BayesianNetwork([('Age', 'Pri'), ('Sex', 'Pri'),('Pri','Survived'),('Fare','Pclass'),('Pclass','Survived'),('Cabin','Survived')])\n",
    "model = BayesianNetwork([('Age', 'Survived'), ('Sex', 'Survived'),('Fare','Pclass'),('Pclass','Survived'),('Cabin','Survived')])\n"
   ],
   "metadata": {
    "collapsed": false,
    "pycharm": {
     "name": "#%%\n"
    }
   }
  },
  {
   "cell_type": "markdown",
   "source": [
    "![Titanic-结构](./BN-Titanic-structure.png)"
   ],
   "metadata": {
    "collapsed": false,
    "pycharm": {
     "name": "#%% md\n"
    }
   }
  },
  {
   "cell_type": "code",
   "execution_count": 19,
   "outputs": [],
   "source": [
    "import daft\n",
    "import matplotlib.pyplot as plt"
   ],
   "metadata": {
    "collapsed": false,
    "pycharm": {
     "name": "#%%\n"
    }
   }
  },
  {
   "cell_type": "code",
   "execution_count": 20,
   "outputs": [],
   "source": [
    "%matplotlib inline"
   ],
   "metadata": {
    "collapsed": false,
    "pycharm": {
     "name": "#%%\n"
    }
   }
  },
  {
   "cell_type": "code",
   "execution_count": 21,
   "outputs": [
    {
     "data": {
      "text/plain": "<Axes:>"
     },
     "execution_count": 21,
     "metadata": {},
     "output_type": "execute_result"
    },
    {
     "data": {
      "text/plain": "<Figure size 153.071x137.88 with 1 Axes>",
      "image/png": "[encoded data removed]"
     },
     "metadata": {},
     "output_type": "display_data"
    }
   ],
   "source": [
    "model_plot = model.to_daft()\n",
    "model_plot.render()"
   ],
   "metadata": {
    "collapsed": false,
    "pycharm": {
     "name": "#%%\n"
    }
   }
  },
  {
   "cell_type": "markdown",
   "source": [
    "# 模型参数构建"
   ],
   "metadata": {
    "collapsed": false,
    "pycharm": {
     "name": "#%% md\n"
    }
   }
  },
  {
   "cell_type": "markdown",
   "source": [
    "确定网络的参数，也就是各个边上的条件概率, 若手工填入，可这样写\n",
    "![条件概率](./BN-Titanic-CPD.png)"
   ],
   "metadata": {
    "collapsed": false,
    "pycharm": {
     "name": "#%% md\n"
    }
   }
  },
  {
   "cell_type": "code",
   "source": [
    "# mfrom pgmpy.factors.discrete import TabularCPD\n",
    "# # 构建CPD表格\n",
    "# my_cpd = TabularCPD(variable='pclass', variable_card=3, values=[[0.65, 0.3], [0.30, 0.6], [0.05, 0.1]],\n",
    "#                     evidence=['Fare'], evidence_card=[2])"
   ],
   "metadata": {
    "collapsed": false,
    "pycharm": {
     "name": "#%%\n"
    }
   },
   "execution_count": 22,
   "outputs": []
  },
  {
   "cell_type": "code",
   "execution_count": 23,
   "outputs": [],
   "source": [
    "# # 填入cpd表\n",
    "# model.add_cpds(my_cpd)\n",
    "# # 执行检查（可选，用于检查cpd是否填错）\n",
    "# cancer_model.check_model()"
   ],
   "metadata": {
    "collapsed": false,
    "pycharm": {
     "name": "#%%\n"
    }
   }
  },
  {
   "cell_type": "markdown",
   "source": [
    "# 使用贝叶斯估计器"
   ],
   "metadata": {
    "collapsed": false,
    "pycharm": {
     "name": "#%% md\n"
    }
   }
  },
  {
   "cell_type": "code",
   "execution_count": 24,
   "outputs": [
    {
     "data": {
      "text/plain": "     Survived  Pclass  Sex  Age  Fare  Cabin\n0           0       2    1    1     0      1\n1           1       0    0    1     2      1\n2           1       2    0    1     0      1\n3           1       0    0    1     2      1\n4           0       2    1    1     0      1\n..        ...     ...  ...  ...   ...    ...\n795         0       1    1    1     0      1\n796         1       0    0    1     0      1\n797         1       2    0    1     0      1\n798         0       2    1    1     0      1\n799         0       2    0    1     0      1\n\n[800 rows x 6 columns]",
      "text/html": "<div>\n<style scoped>\n    .dataframe tbody tr th:only-of-type {\n        vertical-align: middle;\n    }\n\n    .dataframe tbody tr th {\n        vertical-align: top;\n    }\n\n    .dataframe thead th {\n        text-align: right;\n    }\n</style>\n<table border=\"1\" class=\"dataframe\">\n  <thead>\n    <tr style=\"text-align: right;\">\n      <th></th>\n      <th>Survived</th>\n      <th>Pclass</th>\n      <th>Sex</th>\n      <th>Age</th>\n      <th>Fare</th>\n      <th>Cabin</th>\n    </tr>\n  </thead>\n  <tbody>\n    <tr>\n      <th>0</th>\n      <td>0</td>\n      <td>2</td>\n      <td>1</td>\n      <td>1</td>\n      <td>0</td>\n      <td>1</td>\n    </tr>\n    <tr>\n      <th>1</th>\n      <td>1</td>\n      <td>0</td>\n      <td>0</td>\n      <td>1</td>\n      <td>2</td>\n      <td>1</td>\n    </tr>\n    <tr>\n      <th>2</th>\n      <td>1</td>\n      <td>2</td>\n      <td>0</td>\n      <td>1</td>\n      <td>0</td>\n      <td>1</td>\n    </tr>\n    <tr>\n      <th>3</th>\n      <td>1</td>\n      <td>0</td>\n      <td>0</td>\n      <td>1</td>\n      <td>2</td>\n      <td>1</td>\n    </tr>\n    <tr>\n      <th>4</th>\n      <td>0</td>\n      <td>2</td>\n      <td>1</td>\n      <td>1</td>\n      <td>0</td>\n      <td>1</td>\n    </tr>\n    <tr>\n      <th>...</th>\n      <td>...</td>\n      <td>...</td>\n      <td>...</td>\n      <td>...</td>\n      <td>...</td>\n      <td>...</td>\n    </tr>\n    <tr>\n      <th>795</th>\n      <td>0</td>\n      <td>1</td>\n      <td>1</td>\n      <td>1</td>\n      <td>0</td>\n      <td>1</td>\n    </tr>\n    <tr>\n      <th>796</th>\n      <td>1</td>\n      <td>0</td>\n      <td>0</td>\n      <td>1</td>\n      <td>0</td>\n      <td>1</td>\n    </tr>\n    <tr>\n      <th>797</th>\n      <td>1</td>\n      <td>2</td>\n      <td>0</td>\n      <td>1</td>\n      <td>0</td>\n      <td>1</td>\n    </tr>\n    <tr>\n      <th>798</th>\n      <td>0</td>\n      <td>2</td>\n      <td>1</td>\n      <td>1</td>\n      <td>0</td>\n      <td>1</td>\n    </tr>\n    <tr>\n      <th>799</th>\n      <td>0</td>\n      <td>2</td>\n      <td>0</td>\n      <td>1</td>\n      <td>0</td>\n      <td>1</td>\n    </tr>\n  </tbody>\n</table>\n<p>800 rows × 6 columns</p>\n</div>"
     },
     "execution_count": 24,
     "metadata": {},
     "output_type": "execute_result"
    }
   ],
   "source": [
    "train"
   ],
   "metadata": {
    "collapsed": false,
    "pycharm": {
     "name": "#%%\n"
    }
   }
  },
  {
   "cell_type": "code",
   "execution_count": 25,
   "outputs": [
    {
     "data": {
      "text/plain": "\"\\nestimator = BayesianEstimator(model, data)\\ncpd_c = estimator.estimate_cpd('C', prior_type = 'dirichlet', pseudo_counts=[1, 2])\\nmodel.add_cpds(cpd_c)\\n参数如下：\\n    当prior_type=‘BDeu’ 就表示选择了一个equivalent_sample_size=5的无差别客观先验，认定各个概率相等，不提供信息，但并不是没用，这个先验起到了类似神经网络里头控制过拟合的正则项的作用。\\n    当prior_type='dirichlet’表示选择一般的狄利克雷分布，这时候要主动填入[α1，α2…αi]\\n    当prior_type= ‘K2’ 意为 ‘dirichlet’ + setting every pseudo_count to 1\\n\""
     },
     "execution_count": 25,
     "metadata": {},
     "output_type": "execute_result"
    }
   ],
   "source": [
    "# 一起全部进行估计\n",
    "model.fit(train, estimator=BayesianEstimator, prior_type='BDeu', n_jobs=2)\n",
    "'''\n",
    "estimator = BayesianEstimator(model, data)\n",
    "cpd_c = estimator.estimate_cpd('C', prior_type = 'dirichlet', pseudo_counts=[1, 2])\n",
    "model.add_cpds(cpd_c)\n",
    "参数如下：\n",
    "    当prior_type=‘BDeu’ 就表示选择了一个equivalent_sample_size=5的无差别客观先验，认定各个概率相等，不提供信息，但并不是没用，这个先验起到了类似神经网络里头控制过拟合的正则项的作用。\n",
    "    当prior_type='dirichlet’表示选择一般的狄利克雷分布，这时候要主动填入[α1，α2…αi]\n",
    "    当prior_type= ‘K2’ 意为 ‘dirichlet’ + setting every pseudo_count to 1\n",
    "'''"
   ],
   "metadata": {
    "collapsed": false,
    "pycharm": {
     "name": "#%%\n"
    }
   }
  },
  {
   "cell_type": "code",
   "execution_count": 26,
   "outputs": [
    {
     "data": {
      "text/plain": "\"\\n这里记录一个bug：pgmpy目前将离散变量命名限制为从0开始，所以本例子里的Pclass 项从（1/2/3等级）都减一处理成了（0/1/2等级）以解决此问题。\\n\\ndirichlet也可在fit函数里使用，只要传入pseudo_counts字典即可，如下面这样\\npseudo_counts = {'D': [300, 700], 'I': [500, 500], 'G': [800, 200], 'L': [500, 500], 'S': [400, 600]}\\nmodel.fit(data, estimator=BayesianEstimator, prior_type='dirichlet', pseudo_counts=pseudo_counts)\\n\""
     },
     "execution_count": 26,
     "metadata": {},
     "output_type": "execute_result"
    }
   ],
   "source": [
    "'''\n",
    "这里记录一个bug：pgmpy目前将离散变量命名限制为从0开始，所以本例子里的Pclass 项从（1/2/3等级）都减一处理成了（0/1/2等级）以解决此问题。\n",
    "\n",
    "dirichlet也可在fit函数里使用，只要传入pseudo_counts字典即可，如下面这样\n",
    "pseudo_counts = {'D': [300, 700], 'I': [500, 500], 'G': [800, 200], 'L': [500, 500], 'S': [400, 600]}\n",
    "model.fit(data, estimator=BayesianEstimator, prior_type='dirichlet', pseudo_counts=pseudo_counts)\n",
    "'''"
   ],
   "metadata": {
    "collapsed": false,
    "pycharm": {
     "name": "#%%\n"
    }
   }
  },
  {
   "cell_type": "markdown",
   "source": [
    "推理\n",
    "首先可以通过一些方法查看模型"
   ],
   "metadata": {
    "collapsed": false,
    "pycharm": {
     "name": "#%% md\n"
    }
   }
  },
  {
   "cell_type": "code",
   "execution_count": 27,
   "outputs": [
    {
     "name": "stdout",
     "output_type": "stream",
     "text": [
      "['Age', 'Survived', 'Sex', 'Fare', 'Pclass', 'Cabin']\n",
      "[('Age', 'Survived'), ('Sex', 'Survived'), ('Fare', 'Pclass'), ('Pclass', 'Survived'), ('Cabin', 'Survived')]\n",
      "+-----------+---------------------+----------------------+---------------------+\n",
      "| Fare      | Fare(0)             | Fare(1)              | Fare(2)             |\n",
      "+-----------+---------------------+----------------------+---------------------+\n",
      "| Pclass(0) | 0.09599317988064791 | 0.9487179487179486   | 0.8624472573839663  |\n",
      "+-----------+---------------------+----------------------+---------------------+\n",
      "| Pclass(1) | 0.24484228473998296 | 0.025641025641025637 | 0.05738396624472574 |\n",
      "+-----------+---------------------+----------------------+---------------------+\n",
      "| Pclass(2) | 0.6591645353793691  | 0.025641025641025637 | 0.08016877637130802 |\n",
      "+-----------+---------------------+----------------------+---------------------+\n"
     ]
    }
   ],
   "source": [
    "#输出节点信息\n",
    "print(model.nodes())\n",
    "#输出依赖关系\n",
    "print(model.edges())\n",
    "#查看某节点概率分布\n",
    "print(model.get_cpds('Pclass'))\n"
   ],
   "metadata": {
    "collapsed": false,
    "pycharm": {
     "name": "#%%\n"
    }
   }
  },
  {
   "cell_type": "markdown",
   "source": [
    "## 推断"
   ],
   "metadata": {
    "collapsed": false,
    "pycharm": {
     "name": "#%% md\n"
    }
   }
  },
  {
   "cell_type": "markdown",
   "source": [
    "贝叶斯网络推理分成：\n",
    "1.后验概率问题：\n",
    "2.最大后验假设问题（MAP）：\n",
    "3.最大可能解释问题（MPE）\n",
    "\n",
    "贝叶斯网络推理主要有两类方法，精确推理（变量化简Variable Elination和置信传播）和近似推理(如mcmc采样)，一般精确推理足以解决\n",
    "\n",
    "pgmpy解决1可以用query函数 解决2，3可以用map_query函数\n",
    "通过这些查询可以获得我们感兴趣的关于因果关系信息，这是贝叶斯网络模型的一大优势。此处的因果关系并不可以解释为一般意义上的逻辑因果，而是表示一种概率上的相关"
   ],
   "metadata": {
    "collapsed": false,
    "pycharm": {
     "name": "#%% md\n"
    }
   }
  },
  {
   "cell_type": "markdown",
   "source": [
    "#### 逐条预测"
   ],
   "metadata": {
    "collapsed": false,
    "pycharm": {
     "name": "#%% md\n"
    }
   }
  },
  {
   "cell_type": "code",
   "execution_count": 28,
   "outputs": [
    {
     "data": {
      "text/plain": "  0%|          | 0/4 [00:00<?, ?it/s]",
      "application/vnd.jupyter.widget-view+json": {
       "version_major": 2,
       "version_minor": 0,
       "model_id": "42fc660115234b6982195abe0423b88a"
      }
     },
     "metadata": {},
     "output_type": "display_data"
    },
    {
     "data": {
      "text/plain": "  0%|          | 0/4 [00:00<?, ?it/s]",
      "application/vnd.jupyter.widget-view+json": {
       "version_major": 2,
       "version_minor": 0,
       "model_id": "b2b57cc314f7402396d5140c0dd2f73a"
      }
     },
     "metadata": {},
     "output_type": "display_data"
    },
    {
     "name": "stdout",
     "output_type": "stream",
     "text": [
      "+-------------+-----------------+\n",
      "| Survived    |   phi(Survived) |\n",
      "+=============+=================+\n",
      "| Survived(0) |          0.6498 |\n",
      "+-------------+-----------------+\n",
      "| Survived(1) |          0.3502 |\n",
      "+-------------+-----------------+\n"
     ]
    }
   ],
   "source": [
    "from pgmpy.inference import VariableElimination\n",
    "model_infer = VariableElimination(model)\n",
    "q = model_infer.query(variables=['Survived'], evidence={'Fare': 0})\n",
    "print(q)"
   ],
   "metadata": {
    "collapsed": false,
    "pycharm": {
     "name": "#%%\n"
    }
   }
  },
  {
   "cell_type": "code",
   "execution_count": 29,
   "outputs": [
    {
     "data": {
      "text/plain": "0it [00:00, ?it/s]",
      "application/vnd.jupyter.widget-view+json": {
       "version_major": 2,
       "version_minor": 0,
       "model_id": "ae60ef3eca4e43e1aeb8c83158368f83"
      }
     },
     "metadata": {},
     "output_type": "display_data"
    },
    {
     "data": {
      "text/plain": "0it [00:00, ?it/s]",
      "application/vnd.jupyter.widget-view+json": {
       "version_major": 2,
       "version_minor": 0,
       "model_id": "00cfd4c2c7a9494b96de0eae5e522573"
      }
     },
     "metadata": {},
     "output_type": "display_data"
    },
    {
     "name": "stdout",
     "output_type": "stream",
     "text": [
      "{'Fare': 0, 'Age': 1, 'Sex': 0, 'Pclass': 2, 'Cabin': 1}\n"
     ]
    }
   ],
   "source": [
    "q = model_infer.map_query(variables=['Fare','Age','Sex','Pclass','Cabin'], evidence={'Survived': 1})\n",
    "print(q)  #{'Sex': 0, 'Fare': 0, 'Age': 1, 'Pclass': 2, 'Cabin': 0}"
   ],
   "metadata": {
    "collapsed": false,
    "pycharm": {
     "name": "#%%\n"
    }
   }
  },
  {
   "cell_type": "markdown",
   "source": [
    "### 针对 DataFrame 一起推断"
   ],
   "metadata": {
    "collapsed": false,
    "pycharm": {
     "name": "#%% md\n"
    }
   }
  },
  {
   "cell_type": "code",
   "execution_count": 30,
   "outputs": [
    {
     "data": {
      "text/plain": "  0%|          | 0/16 [00:00<?, ?it/s]",
      "application/vnd.jupyter.widget-view+json": {
       "version_major": 2,
       "version_minor": 0,
       "model_id": "b9a1c82498064fe686f2846600bd63df"
      }
     },
     "metadata": {},
     "output_type": "display_data"
    },
    {
     "name": "stderr",
     "output_type": "stream",
     "text": [
      "D:\\Anaconda\\envs\\pytorch-cpu\\lib\\site-packages\\pgmpy\\models\\BayesianNetwork.py:747: FutureWarning: Passing a set as an indexer is deprecated and will raise in a future version. Use a list instead.\n",
      "  return data.merge(data_with_results, how=\"left\").loc[:, missing_variables]\n"
     ]
    },
    {
     "data": {
      "text/plain": "    Survived\n0          0\n1          1\n2          1\n3          0\n4          0\n..       ...\n86         0\n87         1\n88         0\n89         0\n90         0\n\n[91 rows x 1 columns]",
      "text/html": "<div>\n<style scoped>\n    .dataframe tbody tr th:only-of-type {\n        vertical-align: middle;\n    }\n\n    .dataframe tbody tr th {\n        vertical-align: top;\n    }\n\n    .dataframe thead th {\n        text-align: right;\n    }\n</style>\n<table border=\"1\" class=\"dataframe\">\n  <thead>\n    <tr style=\"text-align: right;\">\n      <th></th>\n      <th>Survived</th>\n    </tr>\n  </thead>\n  <tbody>\n    <tr>\n      <th>0</th>\n      <td>0</td>\n    </tr>\n    <tr>\n      <th>1</th>\n      <td>1</td>\n    </tr>\n    <tr>\n      <th>2</th>\n      <td>1</td>\n    </tr>\n    <tr>\n      <th>3</th>\n      <td>0</td>\n    </tr>\n    <tr>\n      <th>4</th>\n      <td>0</td>\n    </tr>\n    <tr>\n      <th>...</th>\n      <td>...</td>\n    </tr>\n    <tr>\n      <th>86</th>\n      <td>0</td>\n    </tr>\n    <tr>\n      <th>87</th>\n      <td>1</td>\n    </tr>\n    <tr>\n      <th>88</th>\n      <td>0</td>\n    </tr>\n    <tr>\n      <th>89</th>\n      <td>0</td>\n    </tr>\n    <tr>\n      <th>90</th>\n      <td>0</td>\n    </tr>\n  </tbody>\n</table>\n<p>91 rows × 1 columns</p>\n</div>"
     },
     "execution_count": 30,
     "metadata": {},
     "output_type": "execute_result"
    }
   ],
   "source": [
    "predict_data=test.drop(['Survived'],axis=1)\n",
    "y_pred = model.predict(predict_data, n_jobs=2)\n",
    "y_pred"
   ],
   "metadata": {
    "collapsed": false,
    "pycharm": {
     "name": "#%%\n"
    }
   }
  },
  {
   "cell_type": "code",
   "execution_count": 31,
   "outputs": [
    {
     "name": "stdout",
     "output_type": "stream",
     "text": [
      "<class 'pandas.core.frame.DataFrame'>\n"
     ]
    }
   ],
   "source": [
    "print(type(y_pred))"
   ],
   "metadata": {
    "collapsed": false,
    "pycharm": {
     "name": "#%%\n"
    }
   }
  },
  {
   "cell_type": "code",
   "execution_count": 32,
   "outputs": [
    {
     "data": {
      "text/plain": "0      True\n1      True\n2      True\n3     False\n4     False\n      ...  \n86     True\n87     True\n88     True\n89    False\n90     True\nName: Survived, Length: 91, dtype: bool"
     },
     "execution_count": 32,
     "metadata": {},
     "output_type": "execute_result"
    }
   ],
   "source": [
    "y_pred.Survived==test.Survived.reset_index(drop=True)"
   ],
   "metadata": {
    "collapsed": false,
    "pycharm": {
     "name": "#%%\n"
    }
   }
  },
  {
   "cell_type": "code",
   "execution_count": 33,
   "outputs": [
    {
     "name": "stdout",
     "output_type": "stream",
     "text": [
      "测试集精度为:  0.8241758241758241\n"
     ]
    }
   ],
   "source": [
    "print('测试集精度为: ', format((y_pred['Survived']==test['Survived'].reset_index(drop=True)).sum()/len(test)))"
   ],
   "metadata": {
    "collapsed": false,
    "pycharm": {
     "name": "#%%\n"
    }
   }
  },
  {
   "cell_type": "markdown",
   "source": [
    "# 结构学习---自动设计网络结构"
   ],
   "metadata": {
    "collapsed": false,
    "pycharm": {
     "name": "#%% md\n"
    }
   }
  },
  {
   "cell_type": "markdown",
   "source": [
    "自动设计网络结构的核心问题有两个，一个是评价网络好坏的指标，另一个是查找的方法.利用启发式方法或是限定搜索条件以减少搜索空间. Score-based Structure Learning 与 constraint-based structure learning以及他们的结合 hybrid structure learning."
   ],
   "metadata": {
    "collapsed": false,
    "pycharm": {
     "name": "#%% md\n"
    }
   }
  },
  {
   "cell_type": "markdown",
   "source": [
    "先尝试对特定的几个模型进行逐一比较，其相应的评分函数得得分"
   ],
   "metadata": {
    "collapsed": false,
    "pycharm": {
     "name": "#%% md\n"
    }
   }
  },
  {
   "cell_type": "code",
   "execution_count": 34,
   "outputs": [
    {
     "name": "stdout",
     "output_type": "stream",
     "text": [
      "-11038.005484116657\n",
      "-11197.917714285868\n",
      "-11153.940749844356\n",
      "=====以下是模型二得到的评分=====\n",
      "-16540.997849827254\n",
      "-16556.942744934302\n",
      "-16558.188306546155\n"
     ]
    }
   ],
   "source": [
    "'''\n",
    "Score-based Structure Learning 依赖于评分函数，常用的有bdeu k2 bic，更合理的网络评分更高.\n",
    "'''\n",
    "# 随机产生x y 并令z=x+y, 显然X -> Z <- Y的结构合理\n",
    "import numpy as np\n",
    "import pandas as pd\n",
    "from pgmpy.estimators import BDeuScore, K2Score, BicScore\n",
    "from pgmpy.models import BayesianNetwork\n",
    "\n",
    "# 创建数据\n",
    "data = pd.DataFrame(data=np.random.randint(0, 3, size=(5000, 2)), columns=['X', 'Y'])\n",
    "data['Z'] = data['X'] + data['Y']\n",
    "\n",
    "\n",
    "# 评分函数需要数据才能进行实例化\n",
    "bdeu = BDeuScore(data, equivalent_sample_size=5)\n",
    "k2 = K2Score(data)\n",
    "bic = BicScore(data)\n",
    "\n",
    "# 先天的创建两个模型----构建要评价的模型搜索空间。\n",
    "model1 = BayesianNetwork([('X', 'Z'), ('Y', 'Z')])  # X -> Z <- Y\n",
    "model2 = BayesianNetwork([('X', 'Z'), ('X', 'Y')])  # Y <- X -> Z\n",
    "\n",
    "# 得出相应的评分\n",
    "print(bdeu.score(model1))\n",
    "print(k2.score(model1))\n",
    "print(bic.score(model1))\n",
    "print('=====以下是模型二得到的评分=====')\n",
    "print(bdeu.score(model2))\n",
    "print(k2.score(model2))\n",
    "print(bic.score(model2))"
   ],
   "metadata": {
    "collapsed": false,
    "pycharm": {
     "name": "#%%\n"
    }
   }
  },
  {
   "cell_type": "markdown",
   "source": [
    "由此得出，模型一的评分比模型二的评分高，模型一更加的好。"
   ],
   "metadata": {
    "collapsed": false,
    "pycharm": {
     "name": "#%% md\n"
    }
   }
  },
  {
   "cell_type": "markdown",
   "source": [
    "## 自动搜索、比较得接口为：爬山算法（贪婪算法）"
   ],
   "metadata": {
    "collapsed": false,
    "pycharm": {
     "name": "#%% md\n"
    }
   }
  },
  {
   "cell_type": "code",
   "execution_count": 35,
   "outputs": [
    {
     "data": {
      "text/plain": "  0%|          | 0/1000000 [00:00<?, ?it/s]",
      "application/vnd.jupyter.widget-view+json": {
       "version_major": 2,
       "version_minor": 0,
       "model_id": "88013bcbd5c24bbda3bdcb0d486c0bf1"
      }
     },
     "metadata": {},
     "output_type": "display_data"
    },
    {
     "name": "stdout",
     "output_type": "stream",
     "text": [
      "DAG with 8 nodes and 6 edges\n",
      "[('A', 'C'), ('A', 'B'), ('A', 'G'), ('C', 'B'), ('H', 'A'), ('H', 'G')]\n",
      "<class 'pgmpy.base.DAG.DAG'>\n"
     ]
    }
   ],
   "source": [
    "# 爬山算法（一个贪婪算法）pympy的实现如下\n",
    "import daft\n",
    "from pgmpy.estimators import HillClimbSearch\n",
    "\n",
    "# 创建模型结构学习的依赖数据\n",
    "data = pd.DataFrame(data=np.random.randint(0, 3, size=(5000, 8)), columns=list('ABCDEFGH'))\n",
    "\n",
    "data['A'] += data['B'] + data['C']\n",
    "data['H'] = data['G'] - data['A']\n",
    "\n",
    "hc = HillClimbSearch(data)\n",
    "best_model = hc.estimate()\n",
    "print(best_model)\n",
    "print(best_model.edges())\n",
    "print(type(best_model))"
   ],
   "metadata": {
    "collapsed": false,
    "pycharm": {
     "name": "#%%\n"
    }
   }
  },
  {
   "cell_type": "code",
   "execution_count": 36,
   "outputs": [
    {
     "data": {
      "text/plain": "<Axes:>"
     },
     "execution_count": 36,
     "metadata": {},
     "output_type": "execute_result"
    },
    {
     "data": {
      "text/plain": "<Figure size 153.071x153.071 with 1 Axes>",
      "image/png": "[encoded data removed]"
     },
     "metadata": {},
     "output_type": "display_data"
    }
   ],
   "source": [
    "best_model.to_daft().render()  # 由此可知通过 爬山算法 贪婪搜索的网络结构 如下图：并没有全部采用所有节点。"
   ],
   "metadata": {
    "collapsed": false,
    "pycharm": {
     "name": "#%%\n"
    }
   }
  },
  {
   "cell_type": "markdown",
   "source": [
    "# Constraint-based Structure Learning 根据独立性得到最优结构的方法，相对来讲前一种更有效\n",
    "# 根据独立性得到最优结构的方法，相对来讲前一种更有效\n",
    "from pgmpy.estimators import PC\n",
    "from pgmpy.independencies import Independencies\n",
    "\n",
    "# build skeleton from list of independencies:\n",
    "ind = Independencies(['B', 'C'],\n",
    "                     ['A', ['B', 'C'], 'D'])  # 表示B 和 C 节点相互独立。\n",
    "\n",
    "# 我们需要计算闭包，否则这组独立性就不承认一个忠实的表示:\n",
    "ind = ind.closure()\n",
    "skel, sep_sets = PC(independencies=ind).build_skeleton(ind, n_jobs=1)\n",
    "\n",
    "print(skel.edges())"
   ],
   "metadata": {
    "collapsed": false,
    "pycharm": {
     "name": "#%% md\n"
    }
   }
  },
  {
   "cell_type": "markdown",
   "source": [
    "# 树搜索"
   ],
   "metadata": {
    "collapsed": false,
    "pycharm": {
     "name": "#%% md\n"
    }
   }
  },
  {
   "cell_type": "code",
   "execution_count": 37,
   "outputs": [
    {
     "data": {
      "text/plain": "Building tree:   0%|          | 0/10.0 [00:00<?, ?it/s]",
      "application/vnd.jupyter.widget-view+json": {
       "version_major": 2,
       "version_minor": 0,
       "model_id": "4345ded8fa2e401495a7bdcb921d677b"
      }
     },
     "metadata": {},
     "output_type": "display_data"
    }
   ],
   "source": [
    "import numpy as np\n",
    "import pandas as pd\n",
    "from pgmpy.estimators import TreeSearch\n",
    "values = pd.DataFrame(np.random.randint(low=0, high=2, size=(1000, 5)),\n",
    "                      columns=['A', 'B', 'C', 'D', 'E'])\n",
    "est = TreeSearch(values, root_node='B')\n",
    "model = est.estimate(estimator_type='chow-liu')"
   ],
   "metadata": {
    "collapsed": false,
    "pycharm": {
     "name": "#%%\n"
    }
   }
  },
  {
   "cell_type": "code",
   "execution_count": 38,
   "outputs": [
    {
     "data": {
      "text/plain": "<Axes:>"
     },
     "execution_count": 38,
     "metadata": {},
     "output_type": "execute_result"
    },
    {
     "data": {
      "text/plain": "<Figure size 142.243x147.521 with 1 Axes>",
      "image/png": "[encoded data removed]"
     },
     "metadata": {},
     "output_type": "display_data"
    }
   ],
   "source": [
    "model.to_daft().render()"
   ],
   "metadata": {
    "collapsed": false,
    "pycharm": {
     "name": "#%%\n"
    }
   }
  },
  {
   "cell_type": "code",
   "execution_count": 38,
   "outputs": [],
   "source": [],
   "metadata": {
    "collapsed": false,
    "pycharm": {
     "name": "#%%\n"
    }
   }
  },
  {
   "cell_type": "code",
   "execution_count": 38,
   "outputs": [],
   "source": [],
   "metadata": {
    "collapsed": false,
    "pycharm": {
     "name": "#%%\n"
    }
   }
  },
  {
   "cell_type": "code",
   "execution_count": 38,
   "outputs": [],
   "source": [],
   "metadata": {
    "collapsed": false,
    "pycharm": {
     "name": "#%%\n"
    }
   }
  },
  {
   "cell_type": "code",
   "execution_count": 38,
   "outputs": [],
   "source": [],
   "metadata": {
    "collapsed": false,
    "pycharm": {
     "name": "#%%\n"
    }
   }
  },
  {
   "cell_type": "code",
   "execution_count": 38,
   "outputs": [],
   "source": [],
   "metadata": {
    "collapsed": false,
    "pycharm": {
     "name": "#%%\n"
    }
   }
  }
 ],
 "metadata": {
  "kernelspec": {
   "display_name": "Python 3",
   "language": "python",
   "name": "python3"
  },
  "language_info": {
   "codemirror_mode": {
    "name": "ipython",
    "version": 2
   },
   "file_extension": ".py",
   "mimetype": "text/x-python",
   "name": "python",
   "nbconvert_exporter": "python",
   "pygments_lexer": "ipython2",
   "version": "2.7.6"
  }
 },
 "nbformat": 4,
 "nbformat_minor": 0
}