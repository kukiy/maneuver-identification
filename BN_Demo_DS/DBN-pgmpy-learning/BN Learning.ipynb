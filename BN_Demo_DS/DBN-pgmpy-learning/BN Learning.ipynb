{
 "cells": [
  {
   "cell_type": "markdown",
   "source": [
    "研究如何根据数据和相关知识高效、准确地建立贝叶斯网络，一直是近十年来的热点与难点。\n",
    "目前对于这一类学习问题，主要有基于打分-搜索的学习方法和基于依赖分析的学习方法，但前者存在搜索空间巨大，可能收敛于局部最优解等问题；后者则存在结点之间的独立性或条件独立性的判断困难以及高阶条件独立性检验结果不够可靠等问题。"
   ],
   "metadata": {
    "collapsed": false,
    "pycharm": {
     "name": "#%% md\n"
    }
   }
  },
  {
   "cell_type": "code",
   "execution_count": 2,
   "metadata": {
    "collapsed": true
   },
   "outputs": [],
   "source": [
    "# 创建贝叶斯网\n",
    "# 在 pgmpy 中, 定义一个贝叶斯网的流程一般是先建立网络结构, 然后填入相关参数.\n",
    "from pgmpy.models import BayesianNetwork\n",
    "\n",
    "cancer_model = BayesianNetwork([('Pollution', 'Cancer'),\n",
    "                              ('Smoker', 'Cancer'),\n",
    "                              ('Cancer', 'Xray'),\n",
    "                              ('Cancer', 'Dyspnoea')])\n",
    "# 这个网络中有五个节点: Pollution, Cancer, Smoker, Xray, Dyspnoea.\n",
    "# ('Pollution', 'Cancer'): 一条有向边, 从 Pollution 指向 Cancer, 表示环境污染有可能导致癌症.\n",
    "# ('Smoker', 'Cancer'): 吸烟有可能导致癌症.\n",
    "# ('Cancer', 'Xray'): 得癌症的人可能会去照X射线.\n",
    "# ('Cancer', 'Dyspnoea'): 得癌症的人可能会呼吸困难."
   ]
  },
  {
   "cell_type": "code",
   "execution_count": 2,
   "outputs": [],
   "source": [
    "# 构建模型参数\n",
    "from pgmpy.factors.discrete import TabularCPD\n",
    "\n",
    "'''\n",
    "CPD（condition probability distribution）表格\n",
    "variable：变量名\n",
    "variable_card：基数（可影响的变量数）,如I有两个可能：True/false，就是2\n",
    "values：变量值的可能概率取值\n",
    "evidence：指向该变量（会导致该事件的事件）即父亲节点都有哪些。\n",
    "evidence_card：每个evidence事件对应的可能数，如N的L有True和False，则为2\n",
    "'''\n",
    "cpd_poll = TabularCPD(variable='Pollution', variable_card=2, values=[[0.9], [0.1]])\n",
    "cpd_smoke = TabularCPD(variable='Smoker', variable_card=2, values=[[0.3], [0.7]])\n",
    "cpd_cancer = TabularCPD(variable='Cancer', variable_card=2,\n",
    "                        values=[[0.03, 0.05, 0.001, 0.02], [0.97, 0.95, 0.999, 0.98]],\n",
    "                        evidence=['Smoker', 'Pollution'], evidence_card=[2, 2])\n",
    "# 注意条件概率表的情况和对应概率大小\n",
    "cpd_xray = TabularCPD(variable='Xray', variable_card=2,\n",
    "                      values=[[0.9, 0.2], [0.1, 0.8]],\n",
    "                      evidence=['Cancer'], evidence_card=[2])\n",
    "cpd_dysp = TabularCPD(variable='Dyspnoea', variable_card=2,\n",
    "                      values=[[0.65, 0.3], [0.35, 0.7]],\n",
    "                      evidence=['Cancer'], evidence_card=[2])"
   ],
   "metadata": {
    "collapsed": false,
    "pycharm": {
     "name": "#%%\n"
    }
   }
  },
  {
   "cell_type": "code",
   "execution_count": 3,
   "outputs": [
    {
     "data": {
      "text/plain": "True"
     },
     "execution_count": 3,
     "metadata": {},
     "output_type": "execute_result"
    }
   ],
   "source": [
    "# 将数据加入网络。将参数与模型结构相关联。\n",
    "cancer_model.add_cpds(cpd_poll, cpd_smoke, cpd_cancer, cpd_xray, cpd_dysp)\n",
    "# 检查cpds对于模型是否可用。验证模型数据的正确性(猜测是验证相关数据的和是否为1, 验证数据中是否有负数, 等等)可以看源码\n",
    "cancer_model.check_model()"
   ],
   "metadata": {
    "collapsed": false,
    "pycharm": {
     "name": "#%%\n"
    }
   }
  },
  {
   "cell_type": "code",
   "execution_count": 4,
   "outputs": [
    {
     "name": "stdout",
     "output_type": "stream",
     "text": [
      "False\n",
      "True\n"
     ]
    }
   ],
   "source": [
    "# 判断两个节点之间是否存在有效迹。\n",
    "'''\n",
    "is_dconnected(start, end, observed=None)\n",
    "is_dconnected(start, end, observed=None)\n",
    "输入参数：\n",
    "start(int, str, any hashable python object): 有效迹起点\n",
    "end(int,str, any hashable python object): 有效迹终点\n",
    "observed(list): 已观测节点列表，会根据已观测节点计算有效迹\n",
    "返回值：\n",
    "(bool): 起点和终点间是否存在有效迹\n",
    "'''\n",
    "# 相关的检查,判断网络是否正确，判断模型两个节点是否可达,即有效迹\n",
    "print(cancer_model.is_dconnected('Pollution', 'Smoker'))\n",
    "print(cancer_model.is_dconnected('Pollution', 'Smoker', observed=['Cancer']))"
   ],
   "metadata": {
    "collapsed": false,
    "pycharm": {
     "name": "#%%\n"
    }
   }
  },
  {
   "cell_type": "code",
   "execution_count": 5,
   "outputs": [
    {
     "name": "stdout",
     "output_type": "stream",
     "text": [
      "(Xray ⟂ Dyspnoea, Pollution, Smoker | Cancer)\n",
      "(Dyspnoea ⟂ Xray, Pollution, Smoker | Cancer)\n",
      "(Pollution ⟂ Smoker)\n"
     ]
    }
   ],
   "source": [
    "# 局部马尔可夫性（局部独立性)\n",
    "'''\n",
    "给定某节点的父节点集，则该节点条件独立于它的所有非后代节点。\n",
    "local_independencies(variables)\n",
    "输入变量：variables(str or array like): 寻找局部独立的目标节点\n",
    "返回值：(Independencies对象): 独立性断言\n",
    "'''\n",
    "# (Xray _|_ Dyspnoea, Smoker, Pollution | Cancer)\n",
    "print(cancer_model.local_independencies('Xray'))\n",
    "print(cancer_model.local_independencies('Dyspnoea'))\n",
    "print(cancer_model.local_independencies('Pollution'))"
   ],
   "metadata": {
    "collapsed": false,
    "pycharm": {
     "name": "#%%\n"
    }
   }
  },
  {
   "cell_type": "code",
   "execution_count": 6,
   "outputs": [
    {
     "name": "stdout",
     "output_type": "stream",
     "text": [
      "{'B'}\n"
     ]
    }
   ],
   "source": [
    "# 最小d分隔节点集，即使得 start 和 end 独立（分开）的最少节点集合。\n",
    "'''\n",
    "minimal_dseparator(start, end)\n",
    "输入变量：start(node): 第一个节点 end(node): 第二个节点\n",
    "返回值：(list): 将第一个节点和第二个节点d分隔的最小节点集\n",
    "'''\n",
    "# 例如\n",
    "from pgmpy.base import DAG\n",
    "\n",
    "dag = DAG([('A', 'B'), ('B', 'C')])\n",
    "print(dag.minimal_dseparator(start='A', end='C'))"
   ],
   "metadata": {
    "collapsed": false,
    "pycharm": {
     "name": "#%%\n"
    }
   }
  },
  {
   "cell_type": "markdown",
   "source": [
    "## 绘制构建的网络结构"
   ],
   "metadata": {
    "collapsed": false,
    "pycharm": {
     "name": "#%% md\n"
    }
   }
  },
  {
   "cell_type": "code",
   "execution_count": 7,
   "outputs": [],
   "source": [
    "# 绘图, DAG.to_daft().render() 转换对象并展现\n",
    "'''\n",
    "pgmpy支持将DAG图导出为daft.PGM对象（https://docs.daft-pgm.org/en/latest/），\n",
    "该对象可调用show()函数绘制出高质量的图形。\n",
    "to_daft(node_pos=‘circular’, latex=True, pgm_params={}, edge_params={}, node_params={})\n",
    "输入参数：node_pos(str or dict): 若是字符串，则只能是如下几种:\n",
    "circular, kamada_kawai, planar, random, shell, sprint, spectral, spiral. 若为字典，则可枚举各节点的位置，格式为{node1:(x轴坐标, y轴坐标), …}\n",
    "\n",
    "latex(bool): 是否使用latex渲染节点名\n",
    "pgm_params(dict): 传递给daft.PGM对象初始化函数的参数，格式为{param_name: param_value, …}\n",
    "edge_params(dict): 传递给daft.add_edge方法的参数，格式为{(u1,v1):{param_name: param_value, …}, …}\n",
    "node_params(dict): 传递给daft.add_node方法的参数，格式为{node1:{param_name: param_value, …}, …}\n",
    "返回值：一个可以通过调用 .render() 展现；表现;呈现  方法显示图片。\n",
    "'''\n",
    "import daft\n",
    "import matplotlib.pyplot as plt"
   ],
   "metadata": {
    "collapsed": false,
    "pycharm": {
     "name": "#%%\n"
    }
   }
  },
  {
   "cell_type": "code",
   "execution_count": 8,
   "outputs": [],
   "source": [
    "% matplotlib inline"
   ],
   "metadata": {
    "collapsed": false,
    "pycharm": {
     "name": "#%%\n"
    }
   }
  },
  {
   "cell_type": "code",
   "execution_count": 9,
   "outputs": [
    {
     "data": {
      "text/plain": "<Axes:>"
     },
     "execution_count": 9,
     "metadata": {},
     "output_type": "execute_result"
    },
    {
     "data": {
      "text/plain": "<Figure size 153.071x96.378 with 1 Axes>",
      "image/png": "[encoded data removed]"
     },
     "metadata": {},
     "output_type": "display_data"
    }
   ],
   "source": [
    "dag = DAG([('a', 'b'), ('b', 'c'), ('d', 'c')])\n",
    "a = dag.to_daft(node_pos={'a': (0, 0), 'b': (1, 0), 'c': (2, 0), 'd': (1, 1)})\n",
    "a.render()"
   ],
   "metadata": {
    "collapsed": false,
    "pycharm": {
     "name": "#%%\n"
    }
   }
  },
  {
   "cell_type": "code",
   "execution_count": 10,
   "outputs": [
    {
     "data": {
      "text/plain": "<Axes:>"
     },
     "execution_count": 10,
     "metadata": {},
     "output_type": "execute_result"
    },
    {
     "data": {
      "text/plain": "<Figure size 142.243x147.521 with 1 Axes>",
      "image/png": "[encoded data removed]"
     },
     "metadata": {},
     "output_type": "display_data"
    }
   ],
   "source": [
    "cancer_model_plot = cancer_model.to_daft()\n",
    "cancer_model_plot.render()"
   ],
   "metadata": {
    "collapsed": false,
    "pycharm": {
     "name": "#%%\n"
    }
   }
  },
  {
   "cell_type": "code",
   "execution_count": 11,
   "outputs": [],
   "source": [
    "# 使用网络进行推理。推理算法分精确推理和近似推理. 精确推理有变量消元法和团树传播法; 近似推理算法是基于随机抽样的算法.\n",
    "# 变量消除法"
   ],
   "metadata": {
    "collapsed": false,
    "pycharm": {
     "name": "#%%\n"
    }
   }
  },
  {
   "cell_type": "code",
   "execution_count": 12,
   "outputs": [
    {
     "name": "stdout",
     "output_type": "stream",
     "text": [
      "['asia', 'tub', 'smoke', 'lung', 'bronc', 'either', 'xray', 'dysp']\n"
     ]
    }
   ],
   "source": [
    "'''\n",
    ".bif扩展名也被选择来代表贝叶斯交换格式（BIF），该格式是在1996年左右提出的，作为描述贝叶斯或信念网络的标准方式。\n",
    "后来，BIF被放弃，而采用了新的、基于XML的XMLBIF格式（.xmlbif）。\n",
    "\n",
    "Asia 网络是早期贝叶斯网文献中给出的一个网络, 与肺结核, 肺癌, 支气管炎等有关, 和我们之前的那个网络很相似. 我们使用 Asia 网络来看一下如何进行推理.\n",
    "'''\n",
    "# 导入 Asia 网络\n",
    "from pgmpy.readwrite import BIFReader\n",
    "\n",
    "reader = BIFReader('asia.bif', n_jobs=2)\n",
    "asia_model = reader.get_model()\n",
    "# 输出节点信息\n",
    "print(asia_model.nodes())"
   ],
   "metadata": {
    "collapsed": false,
    "pycharm": {
     "name": "#%%\n"
    }
   }
  },
  {
   "cell_type": "code",
   "execution_count": 13,
   "outputs": [
    {
     "name": "stdout",
     "output_type": "stream",
     "text": [
      "[('asia', 'tub'), ('tub', 'either'), ('smoke', 'lung'), ('smoke', 'bronc'), ('lung', 'either'), ('bronc', 'dysp'), ('either', 'xray'), ('either', 'dysp')]\n"
     ]
    }
   ],
   "source": [
    "# 输出依赖关系\n",
    "print(asia_model.edges())"
   ],
   "metadata": {
    "collapsed": false,
    "pycharm": {
     "name": "#%%\n"
    }
   }
  },
  {
   "cell_type": "code",
   "execution_count": 14,
   "outputs": [
    {
     "name": "stdout",
     "output_type": "stream",
     "text": [
      "[<TabularCPD representing P(asia:2) at 0x17ff0015430>, <TabularCPD representing P(bronc:2 | smoke:2) at 0x17ff00154c0>, <TabularCPD representing P(dysp:2 | bronc:2, either:2) at 0x17ff0015520>, <TabularCPD representing P(either:2 | lung:2, tub:2) at 0x17ff00155e0>, <TabularCPD representing P(lung:2 | smoke:2) at 0x17ff00156d0>, <TabularCPD representing P(smoke:2) at 0x17ff0015730>, <TabularCPD representing P(tub:2 | asia:2) at 0x17ff00157c0>, <TabularCPD representing P(xray:2 | either:2) at 0x17ff0015850>]\n"
     ]
    }
   ],
   "source": [
    "# 查看概率分布\n",
    "print(asia_model.get_cpds())"
   ],
   "metadata": {
    "collapsed": false,
    "pycharm": {
     "name": "#%%\n"
    }
   }
  },
  {
   "cell_type": "code",
   "execution_count": 15,
   "outputs": [
    {
     "name": "stdout",
     "output_type": "stream",
     "text": [
      "+-----------+-------------+------------+\n",
      "| either    | either(yes) | either(no) |\n",
      "+-----------+-------------+------------+\n",
      "| xray(yes) | 0.98        | 0.05       |\n",
      "+-----------+-------------+------------+\n",
      "| xray(no)  | 0.02        | 0.95       |\n",
      "+-----------+-------------+------------+\n"
     ]
    }
   ],
   "source": [
    "# 直观显示某节点的概率分布\n",
    "print(asia_model.get_cpds('xray'))"
   ],
   "metadata": {
    "collapsed": false,
    "pycharm": {
     "name": "#%%\n"
    }
   }
  },
  {
   "cell_type": "code",
   "execution_count": 16,
   "outputs": [
    {
     "data": {
      "text/plain": "<Axes:>"
     },
     "execution_count": 16,
     "metadata": {},
     "output_type": "execute_result"
    },
    {
     "data": {
      "text/plain": "<Figure size 153.071x153.071 with 1 Axes>",
      "image/png": "[encoded data removed]"
     },
     "metadata": {},
     "output_type": "display_data"
    }
   ],
   "source": [
    "# 展示一下结构图\n",
    "asia_model.to_daft().render()"
   ],
   "metadata": {
    "collapsed": false,
    "pycharm": {
     "name": "#%%\n"
    }
   }
  },
  {
   "cell_type": "markdown",
   "source": [
    "## 根据已经构建的网络模型进行推断"
   ],
   "metadata": {
    "collapsed": false,
    "pycharm": {
     "name": "#%% md\n"
    }
   }
  },
  {
   "cell_type": "code",
   "execution_count": 21,
   "outputs": [
    {
     "data": {
      "text/plain": "0it [00:00, ?it/s]",
      "application/vnd.jupyter.widget-view+json": {
       "version_major": 2,
       "version_minor": 0,
       "model_id": "cc3381e7b3834fe39c88887bbd495145"
      }
     },
     "metadata": {},
     "output_type": "display_data"
    },
    {
     "data": {
      "text/plain": "0it [00:00, ?it/s]",
      "application/vnd.jupyter.widget-view+json": {
       "version_major": 2,
       "version_minor": 0,
       "model_id": "e93605aa764a460989ec238f3c9f94e8"
      }
     },
     "metadata": {},
     "output_type": "display_data"
    },
    {
     "name": "stdout",
     "output_type": "stream",
     "text": [
      "+------------+--------------+\n",
      "| bronc      |   phi(bronc) |\n",
      "+============+==============+\n",
      "| bronc(yes) |       0.6000 |\n",
      "+------------+--------------+\n",
      "| bronc(no)  |       0.4000 |\n",
      "+------------+--------------+\n"
     ]
    }
   ],
   "source": [
    "# 变量消除法,变量消除法是精确推断的一种方法.\n",
    "from pgmpy.inference import VariableElimination\n",
    "\n",
    "asia_infer = VariableElimination(asia_model)  # 实例化推断\n",
    "q = asia_infer.query(variables=['bronc'], evidence={'smoke': 0})  # query() 查询函数，给定条件进行推断\n",
    "print(q)  # 意思是, 在不吸烟的情况下, 得支气管炎的概率是 0.4, 未得支气管炎的概率是 0.6."
   ],
   "metadata": {
    "collapsed": false,
    "pycharm": {
     "name": "#%%\n"
    }
   }
  },
  {
   "cell_type": "code",
   "execution_count": 22,
   "outputs": [
    {
     "data": {
      "text/plain": "0it [00:00, ?it/s]",
      "application/vnd.jupyter.widget-view+json": {
       "version_major": 2,
       "version_minor": 0,
       "model_id": "6bfad4fb46e1461e974367f017c8c333"
      }
     },
     "metadata": {},
     "output_type": "display_data"
    },
    {
     "data": {
      "text/plain": "0it [00:00, ?it/s]",
      "application/vnd.jupyter.widget-view+json": {
       "version_major": 2,
       "version_minor": 0,
       "model_id": "847f96703c644d43b3810ad1d53286b3"
      }
     },
     "metadata": {},
     "output_type": "display_data"
    },
    {
     "name": "stdout",
     "output_type": "stream",
     "text": [
      "+------------+--------------+\n",
      "| bronc      |   phi(bronc) |\n",
      "+============+==============+\n",
      "| bronc(yes) |       0.3000 |\n",
      "+------------+--------------+\n",
      "| bronc(no)  |       0.7000 |\n",
      "+------------+--------------+\n"
     ]
    }
   ],
   "source": [
    "q = asia_infer.query(variables=['bronc'], evidence={'smoke': 1})\n",
    "print(q)  # 在在吸烟情况下, 得支气管炎的概率和未得支气管炎的概率可以这样查询"
   ],
   "metadata": {
    "collapsed": false,
    "pycharm": {
     "name": "#%%\n"
    }
   }
  },
  {
   "cell_type": "markdown",
   "source": [
    "## 根据 已有结构 和 数据数据 进行参数学习"
   ],
   "metadata": {
    "collapsed": false,
    "pycharm": {
     "name": "#%% md\n"
    }
   }
  },
  {
   "cell_type": "code",
   "execution_count": 24,
   "outputs": [
    {
     "name": "stdout",
     "output_type": "stream",
     "text": [
      "+---------+-----+\n",
      "| coin(0) | 0.3 |\n",
      "+---------+-----+\n",
      "| coin(1) | 0.7 |\n",
      "+---------+-----+\n"
     ]
    }
   ],
   "source": [
    "# 利用训练数据学习\n",
    "'''\n",
    "场景: 投硬币, 训练数据中, 有 30% 的正面朝上, 有 70% 的反面朝上. 我们使用极大似然估计和狄利克雷分布下贝叶斯参数先验估计硬币的条件概率分布\n",
    "'''\n",
    "# 生成数据\n",
    "import numpy as np\n",
    "import pandas as pd\n",
    "\n",
    "raw_data = np.array([0] * 30 + [1] * 70)\n",
    "data = pd.DataFrame(raw_data, columns=['coin'])\n",
    "# 定义贝叶斯网\n",
    "from pgmpy.models import BayesianNetwork\n",
    "from pgmpy.estimators import MaximumLikelihoodEstimator, BayesianEstimator\n",
    "\n",
    "model = BayesianNetwork()\n",
    "model.add_node('coin')\n",
    "# 使用极大似然估计:\n",
    "model.fit(data, estimator=MaximumLikelihoodEstimator)\n",
    "print(model.get_cpds('coin'))"
   ],
   "metadata": {
    "collapsed": false,
    "pycharm": {
     "name": "#%%\n"
    }
   }
  },
  {
   "cell_type": "code",
   "execution_count": 31,
   "outputs": [
    {
     "name": "stdout",
     "output_type": "stream",
     "text": [
      "+---------+-----+\n",
      "| coin(0) | 0.4 |\n",
      "+---------+-----+\n",
      "| coin(1) | 0.6 |\n",
      "+---------+-----+\n"
     ]
    }
   ],
   "source": [
    "# 使用狄利克雷分布作为先验分布的贝叶斯推论\n",
    "model.fit(data, estimator=BayesianEstimator, prior_type='dirichlet', pseudo_counts={'coin': [[50], [50]]})\n",
    "print(model.get_cpds('coin'))"
   ],
   "metadata": {
    "collapsed": false,
    "pycharm": {
     "name": "#%%\n"
    }
   }
  },
  {
   "cell_type": "code",
   "execution_count": 39,
   "outputs": [
    {
     "name": "stdout",
     "output_type": "stream",
     "text": [
      "+------+-------+\n",
      "| D(0) | 0.509 |\n",
      "+------+-------+\n",
      "| D(1) | 0.491 |\n",
      "+------+-------+\n",
      "+------+---------------------+-----+--------------------+\n",
      "| D    | D(0)                | ... | D(1)               |\n",
      "+------+---------------------+-----+--------------------+\n",
      "| I    | I(0)                | ... | I(1)               |\n",
      "+------+---------------------+-----+--------------------+\n",
      "| G(0) | 0.5275590551181102  | ... | 0.5278969957081545 |\n",
      "+------+---------------------+-----+--------------------+\n",
      "| G(1) | 0.47244094488188976 | ... | 0.4721030042918455 |\n",
      "+------+---------------------+-----+--------------------+\n",
      "+------+-------+\n",
      "| I(0) | 0.512 |\n",
      "+------+-------+\n",
      "| I(1) | 0.488 |\n",
      "+------+-------+\n",
      "+------+-------------+---------------------+\n",
      "| I    | I(0)        | I(1)                |\n",
      "+------+-------------+---------------------+\n",
      "| S(0) | 0.505859375 | 0.5163934426229508  |\n",
      "+------+-------------+---------------------+\n",
      "| S(1) | 0.494140625 | 0.48360655737704916 |\n",
      "+------+-------------+---------------------+\n",
      "+------+--------------------+---------------------+\n",
      "| G    | G(0)               | G(1)                |\n",
      "+------+--------------------+---------------------+\n",
      "| L(0) | 0.5214723926380368 | 0.49510763209393344 |\n",
      "+------+--------------------+---------------------+\n",
      "| L(1) | 0.4785276073619632 | 0.5048923679060665  |\n",
      "+------+--------------------+---------------------+\n"
     ]
    }
   ],
   "source": [
    "'''\n",
    "变量\t            含义         取值\n",
    "Difficulty      课程本身难度  0=easy, 1=difficult\n",
    "Intelligence\t学生聪明程度\t0=stupid, 1=smart\n",
    "Grade\t        学生课程成绩\t1=A, 2=B\n",
    "SAT\t            学生高考成绩\t0=low, 1=high\n",
    "Letter\t        可否获得推荐信\t0=未获得, 1=获得\n",
    "'''\n",
    "# 随机生成数据\n",
    "raw_data_2 = np.random.randint(0, 2, size=(1000, 5))\n",
    "data = pd.DataFrame(raw_data_2, columns=['D', 'I', 'G', 'L', 'S'])\n",
    "# 形成贝叶斯网络\n",
    "model = BayesianNetwork([('D', 'G'), ('I', 'G'), ('I', 'S'), ('G', 'L')])\n",
    "model.fit(data, estimator=MaximumLikelihoodEstimator)\n",
    "for i in model.get_cpds():\n",
    "    print(i)"
   ],
   "metadata": {
    "collapsed": false,
    "pycharm": {
     "name": "#%%\n"
    }
   }
  },
  {
   "cell_type": "code",
   "execution_count": 47,
   "outputs": [
    {
     "name": "stdout",
     "output_type": "stream",
     "text": [
      "CPD of D:\n",
      "+------+--------+\n",
      "| D(0) | 0.4045 |\n",
      "+------+--------+\n",
      "| D(1) | 0.5955 |\n",
      "+------+--------+\n",
      "CPD of G:\n",
      "+------+--------------------+-----+--------------------+\n",
      "| D    | D(0)               | ... | D(1)               |\n",
      "+------+--------------------+-----+--------------------+\n",
      "| I    | I(0)               | ... | I(1)               |\n",
      "+------+--------------------+-----+--------------------+\n",
      "| G(0) | 0.74481658692185   | ... | 0.2619626926196269 |\n",
      "+------+--------------------+-----+--------------------+\n",
      "| G(1) | 0.2551834130781499 | ... | 0.7380373073803731 |\n",
      "+------+--------------------+-----+--------------------+\n",
      "CPD of I:\n",
      "+------+-------+\n",
      "| I(0) | 0.506 |\n",
      "+------+-------+\n",
      "| I(1) | 0.494 |\n",
      "+------+-------+\n",
      "CPD of S:\n",
      "+------+---------------------+--------------------+\n",
      "| I    | I(0)                | I(1)               |\n",
      "+------+---------------------+--------------------+\n",
      "| S(0) | 0.43584656084656087 | 0.3709677419354839 |\n",
      "+------+---------------------+--------------------+\n",
      "| S(1) | 0.5641534391534392  | 0.6290322580645161 |\n",
      "+------+---------------------+--------------------+\n",
      "CPD of L:\n",
      "+------+---------------------+--------------------+\n",
      "| G    | G(0)                | G(1)               |\n",
      "+------+---------------------+--------------------+\n",
      "| L(0) | 0.5070517125587642  | 0.4983454665784249 |\n",
      "+------+---------------------+--------------------+\n",
      "| L(1) | 0.49294828744123576 | 0.5016545334215751 |\n",
      "+------+---------------------+--------------------+\n"
     ]
    }
   ],
   "source": [
    "\n",
    "'''\n",
    "参数学习\n",
    "=================================================   需要了解各种参数的具体取值情况的含义  =========================================\n",
    "问题一：pseudo_counts 是什么？\n",
    "问题二：prior_type\n",
    "\n",
    "\n",
    "BN网络模型学习的API接口： fit 基于给定的数据进行学习变量的 CPD\n",
    "fit(data, estimator=None, state_names=[], complete_samples_only=True, n_jobs=- 1, **kwargs)\n",
    "data：pandas DataFrame, 且列名和网络种的名字一致；数据缺失时，设置为 numpy 的 np.NaN ,pandas 会将其转为 float32 的数据类型。\n",
    "\n",
    "estimator：Estimator class 默认为 极大似然估计。这个例子中 值为：BayesianEstimator 传递“prior_type”和“pseudo_counts”或“equivalent_sample_size”作为附加关键字参数\n",
    "\n",
    "state_names： 字典形式，表明 变量可以采取的离散的变量集合， 如果未指定 数据集中观察到的值被视为唯一可能的状态。\n",
    "\n",
    "complete_samples_only ：仅用完整的数据 (bool (default True)) 用于指定如何处理缺失值，如果为 True 那么包含 np.NaN 的数据行将被忽略掉。 如果为false 则无论是父级节点还是变量自身，都使用 np.NaN\n",
    "\n",
    "n_jobs ：(int (default: -1)) 用于估计的线程/进程数。它仅提高了大型网络（>100个节点）的速度。对于较小的网络，可能会降低性能。\n",
    "'''\n",
    "pseudo_counts = {'D': [[300], [700]], 'I': [[500], [500]], 'G': [[800, 100, 100, 200], [200,  900, 900, 800]], 'L': [[500, 500], [500, 500]], 'S': [[400, 300], [600, 700]]}\n",
    "model.fit(data, estimator=BayesianEstimator, prior_type='dirichlet', pseudo_counts=pseudo_counts)\n",
    "for cpd in model.get_cpds():\n",
    "    print(\"CPD of {variable}:\".format(variable=cpd.variable))\n",
    "    print(cpd)"
   ],
   "metadata": {
    "collapsed": false,
    "pycharm": {
     "name": "#%%\n"
    }
   }
  },
  {
   "cell_type": "code",
   "execution_count": 50,
   "outputs": [],
   "source": [
    "# 概率图模型(Probabilistic Graphical Models)"
   ],
   "metadata": {
    "collapsed": false,
    "pycharm": {
     "name": "#%%\n"
    }
   }
  }
 ],
 "metadata": {
  "kernelspec": {
   "display_name": "Python 3",
   "language": "python",
   "name": "python3"
  },
  "language_info": {
   "codemirror_mode": {
    "name": "ipython",
    "version": 2
   },
   "file_extension": ".py",
   "mimetype": "text/x-python",
   "name": "python",
   "nbconvert_exporter": "python",
   "pygments_lexer": "ipython2",
   "version": "2.7.6"
  }
 },
 "nbformat": 4,
 "nbformat_minor": 0
}