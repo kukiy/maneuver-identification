{
 "cells": [
  {
   "cell_type": "markdown",
   "metadata": {
    "collapsed": true,
    "pycharm": {
     "name": "#%% md\n"
    }
   },
   "source": [
    "active_trail_nodes(variables, observed=None, include_latents=False)\n",
    "名称：激活线索节点\n",
    "作用：返回给定节点 “variables” 为 KEY ，可达到的节点为 value\n",
    "参数：observed = None，如果改定值，那么假设这些节点是被观察到的。那么将计算该轨迹\n",
    "参数：include_latents = False 是否在返回的活动跟踪节点中包含潜在变量。"
   ]
  },
  {
   "cell_type": "code",
   "source": [
    "import daft\n",
    "from pgmpy.base import DAG\n",
    "from pgmpy.factors.discrete import TabularCPD\n",
    "student = DAG()\n",
    "student.add_nodes_from(['diff', 'intel', 'grades'])\n",
    "student.add_edges_from([('diff', 'grades'), ('intel', 'grades')])\n",
    "print(student.active_trail_nodes('diff'))  # {'diff': {'diff', 'grades'}}\n",
    "print(student.active_trail_nodes(['diff', 'intel'], observed='grades'))\n",
    "# {'diff': {'diff', 'intel'}, 'intel': {'diff', 'intel'}}\n",
    "\n",
    "print(student.active_trail_nodes(['diff', 'intel']))\n",
    "# 当 B 观测时，A和C可以进行连通。{'diff': {'diff', 'grades'}, 'intel': {'grades', 'intel'}}"
   ],
   "metadata": {
    "collapsed": false,
    "pycharm": {
     "name": "#%%\n"
    }
   },
   "execution_count": 1,
   "outputs": [
    {
     "name": "stdout",
     "output_type": "stream",
     "text": [
      "{'diff': {'grades', 'diff'}}\n",
      "{'diff': {'intel', 'diff'}, 'intel': {'intel', 'diff'}}\n",
      "{'diff': {'grades', 'diff'}, 'intel': {'grades', 'intel'}}\n"
     ]
    }
   ]
  },
  {
   "cell_type": "code",
   "execution_count": 2,
   "outputs": [
    {
     "data": {
      "text/plain": "<Axes:>"
     },
     "execution_count": 2,
     "metadata": {},
     "output_type": "execute_result"
    },
    {
     "data": {
      "text/plain": "<Figure size 124.724x137.88 with 1 Axes>",
      "image/png": "[encoded data removed]"
     },
     "metadata": {},
     "output_type": "display_data"
    }
   ],
   "source": [
    "student.to_daft().render()"
   ],
   "metadata": {
    "collapsed": false,
    "pycharm": {
     "name": "#%%\n"
    }
   }
  },
  {
   "cell_type": "code",
   "execution_count": 3,
   "outputs": [],
   "source": [
    "from pgmpy.models import DynamicBayesianNetwork as DBN\n",
    "from pgmpy.factors.discrete import TabularCPD\n",
    "import daft"
   ],
   "metadata": {
    "collapsed": false,
    "pycharm": {
     "name": "#%%\n"
    }
   }
  },
  {
   "cell_type": "code",
   "execution_count": 4,
   "outputs": [
    {
     "name": "stdout",
     "output_type": "stream",
     "text": [
      "Axes(0,0;1x1)\n"
     ]
    },
    {
     "data": {
      "text/plain": "<Figure size 153.071x137.88 with 1 Axes>",
      "image/png": "[encoded data removed]"
     },
     "metadata": {},
     "output_type": "display_data"
    }
   ],
   "source": [
    "'''\n",
    "add_cpds(*cpds)\n",
    "名称：加入cpds (list, set, tuple (array-like)) 列表。每个 CPD 都应该是表格 CPD 的一个实例。\n",
    "作用：将cpds加入到动态贝叶斯网络中。\n",
    "注意：在cpd中添加变量和证据时，必须以下形式(node_name, time_slice)。这里，node_name是插入的节点，而time_slice是一个整数值，它表示节点所属的time_slice的索引。\n",
    "'''\n",
    "dbn = DBN()  # 实例化动态贝叶斯\n",
    "# 添加网络有向边 (('D', 0),('G', 0)) 表示：时刻0的节点D 指向 时刻0的节点G\n",
    "dbn.add_edges_from([(('D', 0),('G', 0)),(('I', 0),('G', 0)),(('D', 0),('D', 1)),(('I', 0),('I', 1))])\n",
    "print(dbn.to_daft().render())  # 绘制此时构建的动态贝叶斯网络"
   ],
   "metadata": {
    "collapsed": false,
    "pycharm": {
     "name": "#%%\n"
    }
   }
  },
  {
   "cell_type": "code",
   "execution_count": 5,
   "outputs": [
    {
     "name": "stdout",
     "output_type": "stream",
     "text": [
      "<class 'pgmpy.models.DynamicBayesianNetwork.DynamicBayesianNetwork'>\n"
     ]
    }
   ],
   "source": [
    "grade_cpd = TabularCPD(('G', 0), 3, [[0.3, 0.05, 0.9, 0.5],\n",
    "                                     [0.4, 0.25, 0.8, 0.03],\n",
    "                                     [0.3, 0.7, 0.02, 0.2]],\n",
    "                       evidence=[('I', 0),('D', 0)],\n",
    "                       evidence_card=[2, 2])\n",
    "d_i_cpd = TabularCPD(('D',1), 2, [[0.6, 0.3],\n",
    "                                  [0.4, 0.7]],\n",
    "                     evidence=[('D',0)],\n",
    "                     evidence_card=[2])\n",
    "\n",
    "diff_cpd = TabularCPD(('D', 0), 2, [[0.6], [0.4]])  # D_0 的 cpd\n",
    "intel_cpd = TabularCPD(('I', 0), 2, [[0.7], [0.3]])  # I_0 的 cpd\n",
    "\n",
    "i_i_cpd = TabularCPD(('I', 1), 2, [[0.5, 0.4],\n",
    "                                   [0.5, 0.6]],\n",
    "                     evidence=[('I', 0)],\n",
    "                     evidence_card=[2])\n",
    "\n",
    "dbn.add_cpds(grade_cpd, d_i_cpd, diff_cpd, intel_cpd, i_i_cpd)\n",
    "print(type(dbn))"
   ],
   "metadata": {
    "collapsed": false,
    "pycharm": {
     "name": "#%%\n"
    }
   }
  },
  {
   "cell_type": "code",
   "execution_count": 6,
   "outputs": [
    {
     "name": "stdout",
     "output_type": "stream",
     "text": [
      "<class 'daft.PGM'>\n"
     ]
    },
    {
     "data": {
      "text/plain": "<Axes:>"
     },
     "execution_count": 6,
     "metadata": {},
     "output_type": "execute_result"
    },
    {
     "data": {
      "text/plain": "<Figure size 153.071x137.88 with 1 Axes>",
      "image/png": "[encoded data removed]"
     },
     "metadata": {},
     "output_type": "display_data"
    }
   ],
   "source": [
    "# 对 DBN 转为可展示的 daft.PGM 对象: 用于绘制 DAG 的对象。\n",
    "print(type(dbn.to_daft()))\n",
    "dbn.to_daft().render()"
   ],
   "metadata": {
    "collapsed": false,
    "pycharm": {
     "name": "#%%\n"
    }
   }
  },
  {
   "cell_type": "code",
   "execution_count": 7,
   "outputs": [
    {
     "name": "stdout",
     "output_type": "stream",
     "text": [
      "[<TabularCPD representing P(('G', 0):3 | ('I', 0):2, ('D', 0):2) at 0x1b2fff83ca0>]\n"
     ]
    }
   ],
   "source": [
    "from pgmpy.models import DynamicBayesianNetwork as DBN\n",
    "from pgmpy.factors.discrete import TabularCPD\n",
    "dbn = DBN()\n",
    "dbn.add_edges_from([(('D',0),('G',0)),(('I',0),('G',0)),(('D',0),('D',1)),(('I',0),('I',1))])\n",
    "grade_cpd =  TabularCPD(('G',0), 3, [[0.3,0.05,0.9,0.5],\n",
    "                                     [0.4,0.25,0.8,0.03],\n",
    "                                     [0.3,0.7,0.02,0.2]], [('I', 0),('D', 0)],[2,2])\n",
    "dbn.add_cpds(grade_cpd)\n",
    "print(dbn.get_cpds())\n"
   ],
   "metadata": {
    "collapsed": false,
    "pycharm": {
     "name": "#%%\n"
    }
   }
  },
  {
   "cell_type": "markdown",
   "source": [
    "# 动态贝叶斯网络的推理"
   ],
   "metadata": {
    "collapsed": false,
    "pycharm": {
     "name": "#%% md\n"
    }
   }
  },
  {
   "cell_type": "code",
   "execution_count": 8,
   "outputs": [
    {
     "data": {
      "text/plain": "  0%|          | 0/1 [00:00<?, ?it/s]",
      "application/vnd.jupyter.widget-view+json": {
       "version_major": 2,
       "version_minor": 0,
       "model_id": "4db2ed1f99e9424b9d0988794bfe6252"
      }
     },
     "metadata": {},
     "output_type": "display_data"
    },
    {
     "data": {
      "text/plain": "  0%|          | 0/1 [00:00<?, ?it/s]",
      "application/vnd.jupyter.widget-view+json": {
       "version_major": 2,
       "version_minor": 0,
       "model_id": "06ccbc42f8a64463bb8a62721cf75e01"
      }
     },
     "metadata": {},
     "output_type": "display_data"
    },
    {
     "name": "stdout",
     "output_type": "stream",
     "text": [
      "[0.66594382 0.33405618]\n"
     ]
    },
    {
     "data": {
      "text/plain": "  0%|          | 0/1 [00:00<?, ?it/s]",
      "application/vnd.jupyter.widget-view+json": {
       "version_major": 2,
       "version_minor": 0,
       "model_id": "8eb822ab4f83473aa1db7e1041ad7636"
      }
     },
     "metadata": {},
     "output_type": "display_data"
    },
    {
     "name": "stdout",
     "output_type": "stream",
     "text": [
      "[0.77419355 0.22580645]\n"
     ]
    },
    {
     "data": {
      "text/plain": "  0%|          | 0/1 [00:00<?, ?it/s]",
      "application/vnd.jupyter.widget-view+json": {
       "version_major": 2,
       "version_minor": 0,
       "model_id": "af39ab3a37fb49819c900da2aa31cc4c"
      }
     },
     "metadata": {},
     "output_type": "display_data"
    },
    {
     "data": {
      "text/plain": "  0%|          | 0/1 [00:00<?, ?it/s]",
      "application/vnd.jupyter.widget-view+json": {
       "version_major": 2,
       "version_minor": 0,
       "model_id": "c1956db407df46d7932250ff773290a2"
      }
     },
     "metadata": {},
     "output_type": "display_data"
    },
    {
     "name": "stdout",
     "output_type": "stream",
     "text": [
      "[0.66594382 0.33405618]\n",
      "None\n"
     ]
    }
   ],
   "source": [
    "'''\n",
    "动态贝叶斯网络推理\n",
    "'''\n",
    "from pgmpy.factors.discrete import TabularCPD\n",
    "from pgmpy.models import DynamicBayesianNetwork as DBN\n",
    "from pgmpy.inference import DBNInference\n",
    "dbnet = DBN()\n",
    "dbnet.add_edges_from([(('Z', 0), ('X', 0)), (('X', 0), ('Y', 0)),\n",
    "                      (('Z', 0), ('Z', 1))])\n",
    "z_start_cpd = TabularCPD(('Z', 0), 2, [[0.5], [0.5]])\n",
    "x_i_cpd = TabularCPD(('X', 0), 2, [[0.6, 0.9],\n",
    "                                   [0.4, 0.1]],\n",
    "                     evidence=[('Z', 0)],\n",
    "                     evidence_card=[2])\n",
    "y_i_cpd = TabularCPD(('Y', 0), 2, [[0.2, 0.3],\n",
    "                                   [0.8, 0.7]],\n",
    "                     evidence=[('X', 0)],\n",
    "                     evidence_card=[2])\n",
    "z_trans_cpd = TabularCPD(('Z', 1), 2, [[0.4, 0.7],\n",
    "                                       [0.6, 0.3]],\n",
    "                         evidence=[('Z', 0)],\n",
    "                         evidence_card=[2])\n",
    "dbnet.add_cpds(z_start_cpd, z_trans_cpd, x_i_cpd, y_i_cpd)\n",
    "dbnet.initialize_initial_state()\n",
    "dbn_inf = DBNInference(dbnet)\n",
    "\n",
    "# 使用信念传播的反向推理方法。\n",
    "print(dbn_inf.backward_inference([('X', 0)], {('Y', 0): 0, ('Y', 1): 1, ('Y', 2): 1})[('X', 0)].values)\n",
    "# 使用信念传播的前向推理方法。\n",
    "print(dbn_inf.forward_inference([('X', 0)], {('Y', 0): 1, ('Y', 1): 0, ('Y', 2): 1})[('X', 0)].values)\n",
    "\n",
    "# 默认为反向推理。\n",
    "print(print(dbn_inf.query([('X', 0)], {('Y', 0): 0, ('Y', 1): 1, ('Y', 2): 1})[('X', 0)].values))"
   ],
   "metadata": {
    "collapsed": false,
    "pycharm": {
     "name": "#%%\n"
    }
   }
  },
  {
   "cell_type": "markdown",
   "source": [
    "# DBN 的的参数推理，即 CPD 学习"
   ],
   "metadata": {
    "collapsed": false,
    "pycharm": {
     "name": "#%% md\n"
    }
   }
  },
  {
   "cell_type": "code",
   "execution_count": 9,
   "outputs": [
    {
     "name": "stdout",
     "output_type": "stream",
     "text": [
      "[('A', 0), ('B', 0), ('C', 0), ('D', 0), ('A', 1), ('B', 1), ('C', 1), ('D', 1)]\n",
      "   (A, 0)  (B, 0)  (C, 0)  (D, 0)  (A, 1)  (B, 1)  (C, 1)  (D, 1)\n",
      "0       2       0       1       0       1       1       0       2\n",
      "1       2       1       1       2       0       0       1       0\n",
      "2       0       0       1       0       1       2       0       0\n",
      "3       0       2       1       1       0       2       0       1\n",
      "4       2       1       0       2       1       0       1       2\n",
      "5       0       0       1       0       2       0       1       0\n",
      "6       0       1       0       1       1       1       0       0\n",
      "7       1       0       0       2       2       1       0       1\n",
      "8       1       0       0       2       2       1       0       0\n",
      "9       1       2       1       0       1       1       0       0\n",
      "BayesianNetwork with 8 nodes and 12 edges\n",
      "+-----------+-----+\n",
      "| (A, 0)(0) | 0.4 |\n",
      "+-----------+-----+\n",
      "| (A, 0)(1) | 0.3 |\n",
      "+-----------+-----+\n",
      "| (A, 0)(2) | 0.3 |\n",
      "+-----------+-----+\n",
      "+-----------+-----------+--------------------+--------------------+\n",
      "| (A, 0)    | (A, 0)(0) | (A, 0)(1)          | (A, 0)(2)          |\n",
      "+-----------+-----------+--------------------+--------------------+\n",
      "| (B, 0)(0) | 0.5       | 0.6666666666666666 | 0.3333333333333333 |\n",
      "+-----------+-----------+--------------------+--------------------+\n",
      "| (B, 0)(1) | 0.25      | 0.0                | 0.6666666666666666 |\n",
      "+-----------+-----------+--------------------+--------------------+\n",
      "| (B, 0)(2) | 0.25      | 0.3333333333333333 | 0.0                |\n",
      "+-----------+-----------+--------------------+--------------------+\n",
      "+-----------+-----------+--------------------+--------------------+\n",
      "| (A, 0)    | (A, 0)(0) | (A, 0)(1)          | (A, 0)(2)          |\n",
      "+-----------+-----------+--------------------+--------------------+\n",
      "| (C, 0)(0) | 0.25      | 0.6666666666666666 | 0.3333333333333333 |\n",
      "+-----------+-----------+--------------------+--------------------+\n",
      "| (C, 0)(1) | 0.75      | 0.3333333333333333 | 0.6666666666666666 |\n",
      "+-----------+-----------+--------------------+--------------------+\n",
      "+-----------+-----------+-----------+-----+--------------------+-----------+\n",
      "| (B, 0)    | (B, 0)(0) | (B, 0)(0) | ... | (B, 0)(2)          | (B, 0)(2) |\n",
      "+-----------+-----------+-----------+-----+--------------------+-----------+\n",
      "| (C, 0)    | (C, 0)(0) | (C, 0)(1) | ... | (C, 0)(0)          | (C, 0)(1) |\n",
      "+-----------+-----------+-----------+-----+--------------------+-----------+\n",
      "| (D, 0)(0) | 0.0       | 1.0       | ... | 0.3333333333333333 | 0.5       |\n",
      "+-----------+-----------+-----------+-----+--------------------+-----------+\n",
      "| (D, 0)(1) | 0.0       | 0.0       | ... | 0.3333333333333333 | 0.5       |\n",
      "+-----------+-----------+-----------+-----+--------------------+-----------+\n",
      "| (D, 0)(2) | 1.0       | 0.0       | ... | 0.3333333333333333 | 0.0       |\n",
      "+-----------+-----------+-----------+-----+--------------------+-----------+\n",
      "+-----------+-----------+--------------------+--------------------+\n",
      "| (A, 0)    | (A, 0)(0) | (A, 0)(1)          | (A, 0)(2)          |\n",
      "+-----------+-----------+--------------------+--------------------+\n",
      "| (A, 1)(0) | 0.25      | 0.0                | 0.3333333333333333 |\n",
      "+-----------+-----------+--------------------+--------------------+\n",
      "| (A, 1)(1) | 0.5       | 0.3333333333333333 | 0.6666666666666666 |\n",
      "+-----------+-----------+--------------------+--------------------+\n",
      "| (A, 1)(2) | 0.25      | 0.6666666666666666 | 0.0                |\n",
      "+-----------+-----------+--------------------+--------------------+\n",
      "+-----------+--------------------+-----+--------------------+\n",
      "| (A, 1)    | (A, 1)(0)          | ... | (A, 1)(2)          |\n",
      "+-----------+--------------------+-----+--------------------+\n",
      "| (B, 0)    | (B, 0)(0)          | ... | (B, 0)(2)          |\n",
      "+-----------+--------------------+-----+--------------------+\n",
      "| (B, 1)(0) | 0.3333333333333333 | ... | 0.3333333333333333 |\n",
      "+-----------+--------------------+-----+--------------------+\n",
      "| (B, 1)(1) | 0.3333333333333333 | ... | 0.3333333333333333 |\n",
      "+-----------+--------------------+-----+--------------------+\n",
      "| (B, 1)(2) | 0.3333333333333333 | ... | 0.3333333333333333 |\n",
      "+-----------+--------------------+-----+--------------------+\n",
      "+-----------+-----------+-----------+-----+-----------+-----------+\n",
      "| (A, 1)    | (A, 1)(0) | (A, 1)(0) | ... | (A, 1)(2) | (A, 1)(2) |\n",
      "+-----------+-----------+-----------+-----+-----------+-----------+\n",
      "| (C, 0)    | (C, 0)(0) | (C, 0)(1) | ... | (C, 0)(0) | (C, 0)(1) |\n",
      "+-----------+-----------+-----------+-----+-----------+-----------+\n",
      "| (C, 1)(0) | 0.5       | 0.5       | ... | 1.0       | 0.0       |\n",
      "+-----------+-----------+-----------+-----+-----------+-----------+\n",
      "| (C, 1)(1) | 0.5       | 0.5       | ... | 0.0       | 1.0       |\n",
      "+-----------+-----------+-----------+-----+-----------+-----------+\n",
      "+-----------+--------------------+-----+--------------------+\n",
      "| (B, 1)    | (B, 1)(0)          | ... | (B, 1)(2)          |\n",
      "+-----------+--------------------+-----+--------------------+\n",
      "| (C, 1)    | (C, 1)(0)          | ... | (C, 1)(1)          |\n",
      "+-----------+--------------------+-----+--------------------+\n",
      "| (D, 0)    | (D, 0)(0)          | ... | (D, 0)(2)          |\n",
      "+-----------+--------------------+-----+--------------------+\n",
      "| (D, 1)(0) | 0.3333333333333333 | ... | 0.3333333333333333 |\n",
      "+-----------+--------------------+-----+--------------------+\n",
      "| (D, 1)(1) | 0.3333333333333333 | ... | 0.3333333333333333 |\n",
      "+-----------+--------------------+-----+--------------------+\n",
      "| (D, 1)(2) | 0.3333333333333333 | ... | 0.3333333333333333 |\n",
      "+-----------+--------------------+-----+--------------------+\n"
     ]
    },
    {
     "data": {
      "text/plain": "<Figure size 153.071x153.071 with 1 Axes>",
      "image/png": "[encoded data removed]"
     },
     "metadata": {},
     "output_type": "display_data"
    }
   ],
   "source": [
    "'''\n",
    "由于假设 2-TBN 在整个模型中保持不变，因此该算法在数据中每 2 个连续的时间片上进行迭代，并根据它更新 CPD。\n",
    "\n",
    "fit()\n",
    "    data：pandas.DataFrame 实例 列名必须采用（变量、time_slice）形式，时间片必须从 0 开始\n",
    "    estimator：str 目前仅支持最大似然估计器\n",
    "\n",
    "    返回类型：没有返回值，仅仅将 CPD 添加到模型实例中。\n",
    "'''\n",
    "import numpy as np\n",
    "import pandas as pd\n",
    "from pgmpy.models import DynamicBayesianNetwork as DBN\n",
    "model = DBN(\n",
    "    [\n",
    "        ((\"A\", 0), (\"B\", 0)),\n",
    "        ((\"A\", 0), (\"C\", 0)),\n",
    "        ((\"B\", 0), (\"D\", 0)),\n",
    "        ((\"C\", 0), (\"D\", 0)),\n",
    "        ((\"A\", 0), (\"A\", 1)),\n",
    "        ((\"B\", 0), (\"B\", 1)),\n",
    "        ((\"C\", 0), (\"C\", 1)),\n",
    "        ((\"D\", 0), (\"D\", 1)),\n",
    "    ]\n",
    ")\n",
    "data = np.random.randint(low=0, high=3, size=(10, 8))\n",
    "colnames = []\n",
    "# extend() :列表末尾一次性追加另一个序列中的多个值\n",
    "for t in range(2):\n",
    "    colnames.extend([(\"A\", t), (\"B\", t), (\"C\", t), (\"D\", t)])\n",
    "\n",
    "print(colnames)\n",
    "df = pd.DataFrame(data, columns=colnames)  # 训练数据的形式！！！！！！！！！！！！！！！！！！！！！！！！！！！！！！1\n",
    "# pd.set_option('display.max_columns', 50)\n",
    "print(df)\n",
    "model.fit(df)\n",
    "\n",
    "\n",
    "'''\n",
    "get_constant_bn ( t_slice = 0 )\n",
    "\n",
    "返回一个正常的贝叶斯网络对象，它具有来自前两个时间片的节点、第一个时间片中的所有边以及从第一个时间片到第二个时间片的边。返回的贝叶斯网络基本上代表了 DBN 中保持不变的部分。  节点名称更改为{var}_{time}形式的字符串。\n",
    "'''\n",
    "print(model.get_constant_bn())\n",
    "model.get_constant_bn().to_daft().render()\n",
    "#查看某节点概率分布\n",
    "print(model.get_cpds(('A',0)))\n",
    "print(model.get_cpds(('B',0)))\n",
    "print(model.get_cpds(('C',0)))\n",
    "print(model.get_cpds(('D',0)))\n",
    "print(model.get_cpds(('A',1)))\n",
    "print(model.get_cpds(('B',1)))\n",
    "print(model.get_cpds(('C',1)))\n",
    "print(model.get_cpds(('D',1)))"
   ],
   "metadata": {
    "collapsed": false,
    "pycharm": {
     "name": "#%%\n"
    }
   }
  },
  {
   "cell_type": "code",
   "execution_count": 17,
   "outputs": [
    {
     "data": {
      "text/plain": "('A', 0)"
     },
     "execution_count": 17,
     "metadata": {},
     "output_type": "execute_result"
    }
   ],
   "source": [
    "df.columns[0]"
   ],
   "metadata": {
    "collapsed": false,
    "pycharm": {
     "name": "#%%\n"
    }
   }
  },
  {
   "cell_type": "code",
   "execution_count": 16,
   "outputs": [
    {
     "data": {
      "text/plain": "int"
     },
     "execution_count": 16,
     "metadata": {},
     "output_type": "execute_result"
    }
   ],
   "source": [
    "type(df.columns[0][1])"
   ],
   "metadata": {
    "collapsed": false,
    "pycharm": {
     "name": "#%%\n"
    }
   }
  },
  {
   "cell_type": "code",
   "execution_count": null,
   "outputs": [],
   "source": [],
   "metadata": {
    "collapsed": false,
    "pycharm": {
     "name": "#%%\n"
    }
   }
  },
  {
   "cell_type": "code",
   "execution_count": 10,
   "outputs": [
    {
     "name": "stdout",
     "output_type": "stream",
     "text": [
      "+-----------+-----------+-----------+-----+--------------------+-----------+\n",
      "| (B, 0)    | (B, 0)(0) | (B, 0)(0) | ... | (B, 0)(2)          | (B, 0)(2) |\n",
      "+-----------+-----------+-----------+-----+--------------------+-----------+\n",
      "| (C, 0)    | (C, 0)(0) | (C, 0)(1) | ... | (C, 0)(0)          | (C, 0)(1) |\n",
      "+-----------+-----------+-----------+-----+--------------------+-----------+\n",
      "| (D, 0)(0) | 0.0       | 1.0       | ... | 0.3333333333333333 | 0.5       |\n",
      "+-----------+-----------+-----------+-----+--------------------+-----------+\n",
      "| (D, 0)(1) | 0.0       | 0.0       | ... | 0.3333333333333333 | 0.5       |\n",
      "+-----------+-----------+-----------+-----+--------------------+-----------+\n",
      "| (D, 0)(2) | 1.0       | 0.0       | ... | 0.3333333333333333 | 0.0       |\n",
      "+-----------+-----------+-----------+-----+--------------------+-----------+\n",
      "+-----------+-----------+--------------------+--------------------+\n",
      "| (A, 0)    | (A, 0)(0) | (A, 0)(1)          | (A, 0)(2)          |\n",
      "+-----------+-----------+--------------------+--------------------+\n",
      "| (B, 0)(0) | 0.5       | 0.6666666666666666 | 0.3333333333333333 |\n",
      "+-----------+-----------+--------------------+--------------------+\n",
      "| (B, 0)(1) | 0.25      | 0.0                | 0.6666666666666666 |\n",
      "+-----------+-----------+--------------------+--------------------+\n",
      "| (B, 0)(2) | 0.25      | 0.3333333333333333 | 0.0                |\n",
      "+-----------+-----------+--------------------+--------------------+\n",
      "+-----------+-----------+--------------------+--------------------+\n",
      "| (A, 0)    | (A, 0)(0) | (A, 0)(1)          | (A, 0)(2)          |\n",
      "+-----------+-----------+--------------------+--------------------+\n",
      "| (C, 0)(0) | 0.25      | 0.6666666666666666 | 0.3333333333333333 |\n",
      "+-----------+-----------+--------------------+--------------------+\n",
      "| (C, 0)(1) | 0.75      | 0.3333333333333333 | 0.6666666666666666 |\n",
      "+-----------+-----------+--------------------+--------------------+\n",
      "+-----------+-----+\n",
      "| (A, 0)(0) | 0.4 |\n",
      "+-----------+-----+\n",
      "| (A, 0)(1) | 0.3 |\n",
      "+-----------+-----+\n",
      "| (A, 0)(2) | 0.3 |\n",
      "+-----------+-----+\n",
      "+-----------+--------------------+-----+--------------------+\n",
      "| (B, 1)    | (B, 1)(0)          | ... | (B, 1)(2)          |\n",
      "+-----------+--------------------+-----+--------------------+\n",
      "| (C, 1)    | (C, 1)(0)          | ... | (C, 1)(1)          |\n",
      "+-----------+--------------------+-----+--------------------+\n",
      "| (D, 0)    | (D, 0)(0)          | ... | (D, 0)(2)          |\n",
      "+-----------+--------------------+-----+--------------------+\n",
      "| (D, 1)(0) | 0.3333333333333333 | ... | 0.3333333333333333 |\n",
      "+-----------+--------------------+-----+--------------------+\n",
      "| (D, 1)(1) | 0.3333333333333333 | ... | 0.3333333333333333 |\n",
      "+-----------+--------------------+-----+--------------------+\n",
      "| (D, 1)(2) | 0.3333333333333333 | ... | 0.3333333333333333 |\n",
      "+-----------+--------------------+-----+--------------------+\n",
      "+-----------+--------------------+-----+--------------------+\n",
      "| (A, 1)    | (A, 1)(0)          | ... | (A, 1)(2)          |\n",
      "+-----------+--------------------+-----+--------------------+\n",
      "| (B, 0)    | (B, 0)(0)          | ... | (B, 0)(2)          |\n",
      "+-----------+--------------------+-----+--------------------+\n",
      "| (B, 1)(0) | 0.3333333333333333 | ... | 0.3333333333333333 |\n",
      "+-----------+--------------------+-----+--------------------+\n",
      "| (B, 1)(1) | 0.3333333333333333 | ... | 0.3333333333333333 |\n",
      "+-----------+--------------------+-----+--------------------+\n",
      "| (B, 1)(2) | 0.3333333333333333 | ... | 0.3333333333333333 |\n",
      "+-----------+--------------------+-----+--------------------+\n",
      "+-----------+-----------+-----------+-----+-----------+-----------+\n",
      "| (A, 1)    | (A, 1)(0) | (A, 1)(0) | ... | (A, 1)(2) | (A, 1)(2) |\n",
      "+-----------+-----------+-----------+-----+-----------+-----------+\n",
      "| (C, 0)    | (C, 0)(0) | (C, 0)(1) | ... | (C, 0)(0) | (C, 0)(1) |\n",
      "+-----------+-----------+-----------+-----+-----------+-----------+\n",
      "| (C, 1)(0) | 0.5       | 0.5       | ... | 1.0       | 0.0       |\n",
      "+-----------+-----------+-----------+-----+-----------+-----------+\n",
      "| (C, 1)(1) | 0.5       | 0.5       | ... | 0.0       | 1.0       |\n",
      "+-----------+-----------+-----------+-----+-----------+-----------+\n",
      "+-----------+-----------+--------------------+--------------------+\n",
      "| (A, 0)    | (A, 0)(0) | (A, 0)(1)          | (A, 0)(2)          |\n",
      "+-----------+-----------+--------------------+--------------------+\n",
      "| (A, 1)(0) | 0.25      | 0.0                | 0.3333333333333333 |\n",
      "+-----------+-----------+--------------------+--------------------+\n",
      "| (A, 1)(1) | 0.5       | 0.3333333333333333 | 0.6666666666666666 |\n",
      "+-----------+-----------+--------------------+--------------------+\n",
      "| (A, 1)(2) | 0.25      | 0.6666666666666666 | 0.0                |\n",
      "+-----------+-----------+--------------------+--------------------+\n"
     ]
    }
   ],
   "source": [
    "'''\n",
    "get_cpds()\n",
    "    DBN 网络获取node的CPD参数： ('node', time-slice)  ------   return 可打印的 CPD表\n",
    "    DBN 网络CPD参数： None   -----   return [可打印的 CPD 表]\n",
    "'''\n",
    "# DBN_CPD=model.get_cpds(('D', 0))  # 返回已与网络关联的 CPD\n",
    "DBN_CPD=model.get_cpds()\n",
    "for i in DBN_CPD:\n",
    "    print(i)"
   ],
   "metadata": {
    "collapsed": false,
    "pycharm": {
     "name": "#%%\n"
    }
   }
  },
  {
   "cell_type": "markdown",
   "source": [
    "# 目前没有很好的 DBN 的动态结构学习方法"
   ],
   "metadata": {
    "collapsed": false,
    "pycharm": {
     "name": "#%% md\n"
    }
   }
  },
  {
   "cell_type": "markdown",
   "source": [
    "#### 模拟来自指定模型的时间序列数据。"
   ],
   "metadata": {
    "collapsed": false,
    "pycharm": {
     "name": "#%% md\n"
    }
   }
  },
  {
   "cell_type": "code",
   "execution_count": 11,
   "outputs": [],
   "source": [
    "'''\n",
    "参数：\n",
    "n_samples ( int ) – 要从模型中模拟的数据样本数。\n",
    "n_time_slices ( int ) – 模拟数据的时间片数。\n",
    "do ( dict ) – 适用于模型的干预措施。dict 的形式应该是 {(variable_name, time_slice): state}\n",
    "证据( dict ) - 应用于模型的观察证据。dict 的形式应该是 {(variable_name, time_slice): state}\n",
    "virtual_evidence ( list ) -- 概率性地将证据应用于模型。virtual_evidence应该是指定虚拟概率的pgmpy.factors.discret.TabularCPD对象的列表。\n",
    "\n",
    "virtual_intervention ( list ) – 也称为软干预。virtual_intervention应该是指定虚拟/软干预概率的pgmpy.factors.discrete.TabularCPD对象列表。\n",
    "\n",
    "include_latents ( boolean ( default: False ) ) -- 是否在生成的样本中包含潜在变量值。\n",
    "\n",
    "seed ( int ( default: None ) ) -- 如果提供了一个值，则为 numpy.random 设置种子。\n",
    "show_progress ( bool ) -- 如果为 True，则在生成样本时显示进度条。\n",
    "返回：\n",
    "pandas.DataFrame 带有模拟数据的数据框。\n",
    "'''\n",
    "from pgmpy.models import DynamicBayesianNetwork as DBN\n",
    "from pgmpy.factors.discrete import TabularCPD\n",
    "dbn = DBN([((\"D\", 0), (\"G\", 0)), ((\"I\", 0), (\"G\", 0)),\n",
    "           ((\"D\", 0), (\"D\", 1)), ((\"I\", 0), (\"I\", 1)),])\n",
    "diff_cpd = TabularCPD((\"D\", 0), 2, [[0.6], [0.4]])\n",
    "grade_cpd = TabularCPD(variable=(\"G\", 0), variable_card=3,\n",
    "                       values=[[0.3, 0.05, 0.9, 0.5],\n",
    "                               [0.4, 0.25, 0.08, 0.3],\n",
    "                               [0.3, 0.7, 0.02, 0.2]],\n",
    "                       evidence=[(\"I\", 0), (\"D\", 0)],\n",
    "                       evidence_card=[2, 2])\n",
    "d_i_cpd = TabularCPD(variable=(\"D\", 1), variable_card=2,\n",
    "                     values=[[0.6, 0.3], [0.4, 0.7]],\n",
    "                     evidence=[(\"D\", 0)],\n",
    "                     evidence_card=[2])\n",
    "intel_cpd = TabularCPD((\"I\", 0), 2, [[0.7], [0.3]])\n",
    "i_i_cpd = TabularCPD(variable=(\"I\", 1), variable_card=2,\n",
    "                     values=[[0.5, 0.4], [0.5, 0.6]],\n",
    "                     evidence=[(\"I\", 0)],\n",
    "                     evidence_card=[2])\n",
    "g_i_cpd = TabularCPD(variable=(\"G\", 1), variable_card=3,\n",
    "                     values=[[0.3, 0.05, 0.9, 0.5],\n",
    "                             [0.4, 0.25, 0.08, 0.3],\n",
    "                             [0.3, 0.7, 0.02, 0.2]],\n",
    "                     evidence=[(\"I\", 1), (\"D\", 1)],\n",
    "                     evidence_card=[2, 2])\n",
    "dbn.add_cpds(diff_cpd, grade_cpd, d_i_cpd, intel_cpd, i_i_cpd, g_i_cpd)"
   ],
   "metadata": {
    "collapsed": false,
    "pycharm": {
     "name": "#%%\n"
    }
   }
  },
  {
   "cell_type": "code",
   "execution_count": 12,
   "outputs": [
    {
     "data": {
      "text/plain": "  0%|          | 0/12 [00:00<?, ?it/s]",
      "application/vnd.jupyter.widget-view+json": {
       "version_major": 2,
       "version_minor": 0,
       "model_id": "0fcf328d6cf542f4a256b796d4c29124"
      }
     },
     "metadata": {},
     "output_type": "display_data"
    },
    {
     "data": {
      "text/plain": "   (D, 0)  (G, 0)  (I, 0)  (D, 1)  (G, 1)  (I, 1)  (D, 2)  (G, 2)  (D, 3)  \\\n0       0       0       0       0       0       1       1       0       0   \n1       1       1       0       1       2       0       1       1       1   \n\n   (G, 3)  (I, 2)  (I, 3)  \n0       1       1       0  \n1       0       0       1  ",
      "text/html": "<div>\n<style scoped>\n    .dataframe tbody tr th:only-of-type {\n        vertical-align: middle;\n    }\n\n    .dataframe tbody tr th {\n        vertical-align: top;\n    }\n\n    .dataframe thead th {\n        text-align: right;\n    }\n</style>\n<table border=\"1\" class=\"dataframe\">\n  <thead>\n    <tr style=\"text-align: right;\">\n      <th></th>\n      <th>(D, 0)</th>\n      <th>(G, 0)</th>\n      <th>(I, 0)</th>\n      <th>(D, 1)</th>\n      <th>(G, 1)</th>\n      <th>(I, 1)</th>\n      <th>(D, 2)</th>\n      <th>(G, 2)</th>\n      <th>(D, 3)</th>\n      <th>(G, 3)</th>\n      <th>(I, 2)</th>\n      <th>(I, 3)</th>\n    </tr>\n  </thead>\n  <tbody>\n    <tr>\n      <th>0</th>\n      <td>0</td>\n      <td>0</td>\n      <td>0</td>\n      <td>0</td>\n      <td>0</td>\n      <td>1</td>\n      <td>1</td>\n      <td>0</td>\n      <td>0</td>\n      <td>1</td>\n      <td>1</td>\n      <td>0</td>\n    </tr>\n    <tr>\n      <th>1</th>\n      <td>1</td>\n      <td>1</td>\n      <td>0</td>\n      <td>1</td>\n      <td>2</td>\n      <td>0</td>\n      <td>1</td>\n      <td>1</td>\n      <td>1</td>\n      <td>0</td>\n      <td>0</td>\n      <td>1</td>\n    </tr>\n  </tbody>\n</table>\n</div>"
     },
     "execution_count": 12,
     "metadata": {},
     "output_type": "execute_result"
    }
   ],
   "source": [
    "# 来自模型的正常模拟。\n",
    "dbn.simulate(n_time_slices=4, n_samples=2)"
   ],
   "metadata": {
    "collapsed": false,
    "pycharm": {
     "name": "#%%\n"
    }
   }
  },
  {
   "cell_type": "code",
   "execution_count": 13,
   "outputs": [
    {
     "data": {
      "text/plain": "  0%|          | 0/12 [00:00<?, ?it/s]",
      "application/vnd.jupyter.widget-view+json": {
       "version_major": 2,
       "version_minor": 0,
       "model_id": "cd938e8808cd44328f0f02ed23d6f368"
      }
     },
     "metadata": {},
     "output_type": "display_data"
    },
    {
     "name": "stderr",
     "output_type": "stream",
     "text": [
      "D:\\Anaconda\\envs\\pytorch-cpu\\lib\\site-packages\\pgmpy\\sampling\\Sampling.py:227: FutureWarning: The frame.append method is deprecated and will be removed from pandas in a future version. Use pandas.concat instead.\n",
      "  sampled = sampled.append(_sampled).iloc[:size, :]\n",
      "D:\\Anaconda\\envs\\pytorch-cpu\\lib\\site-packages\\pgmpy\\sampling\\Sampling.py:227: FutureWarning: The frame.append method is deprecated and will be removed from pandas in a future version. Use pandas.concat instead.\n",
      "  sampled = sampled.append(_sampled).iloc[:size, :]\n",
      "D:\\Anaconda\\envs\\pytorch-cpu\\lib\\site-packages\\pgmpy\\sampling\\Sampling.py:227: FutureWarning: The frame.append method is deprecated and will be removed from pandas in a future version. Use pandas.concat instead.\n",
      "  sampled = sampled.append(_sampled).iloc[:size, :]\n",
      "D:\\Anaconda\\envs\\pytorch-cpu\\lib\\site-packages\\pgmpy\\sampling\\Sampling.py:227: FutureWarning: The frame.append method is deprecated and will be removed from pandas in a future version. Use pandas.concat instead.\n",
      "  sampled = sampled.append(_sampled).iloc[:size, :]\n"
     ]
    },
    {
     "data": {
      "text/plain": "   (D, 0)  (G, 0)  (I, 0)  (D, 1)  (G, 1)  (I, 1)  (D, 2)  (G, 2)  (D, 3)  \\\n0       1       2       0       0       0       1       0       0       0   \n1       1       2       0       0       1       0       0       1       0   \n\n   (G, 3)  (I, 2)  (I, 3)  \n0       0       1       1  \n1       0       0       0  ",
      "text/html": "<div>\n<style scoped>\n    .dataframe tbody tr th:only-of-type {\n        vertical-align: middle;\n    }\n\n    .dataframe tbody tr th {\n        vertical-align: top;\n    }\n\n    .dataframe thead th {\n        text-align: right;\n    }\n</style>\n<table border=\"1\" class=\"dataframe\">\n  <thead>\n    <tr style=\"text-align: right;\">\n      <th></th>\n      <th>(D, 0)</th>\n      <th>(G, 0)</th>\n      <th>(I, 0)</th>\n      <th>(D, 1)</th>\n      <th>(G, 1)</th>\n      <th>(I, 1)</th>\n      <th>(D, 2)</th>\n      <th>(G, 2)</th>\n      <th>(D, 3)</th>\n      <th>(G, 3)</th>\n      <th>(I, 2)</th>\n      <th>(I, 3)</th>\n    </tr>\n  </thead>\n  <tbody>\n    <tr>\n      <th>0</th>\n      <td>1</td>\n      <td>2</td>\n      <td>0</td>\n      <td>0</td>\n      <td>0</td>\n      <td>1</td>\n      <td>0</td>\n      <td>0</td>\n      <td>0</td>\n      <td>0</td>\n      <td>1</td>\n      <td>1</td>\n    </tr>\n    <tr>\n      <th>1</th>\n      <td>1</td>\n      <td>2</td>\n      <td>0</td>\n      <td>0</td>\n      <td>1</td>\n      <td>0</td>\n      <td>0</td>\n      <td>1</td>\n      <td>0</td>\n      <td>0</td>\n      <td>0</td>\n      <td>0</td>\n    </tr>\n  </tbody>\n</table>\n</div>"
     },
     "execution_count": 13,
     "metadata": {},
     "output_type": "execute_result"
    }
   ],
   "source": [
    "# 有证据的模拟\n",
    "dbn.simulate(n_time_slices=4, n_samples=2, evidence={('D', 0): 1, ('D', 2): 0})"
   ],
   "metadata": {
    "collapsed": false,
    "pycharm": {
     "name": "#%%\n"
    }
   }
  },
  {
   "cell_type": "code",
   "execution_count": 13,
   "outputs": [],
   "source": [],
   "metadata": {
    "collapsed": false,
    "pycharm": {
     "name": "#%%\n"
    }
   }
  },
  {
   "cell_type": "code",
   "execution_count": 13,
   "outputs": [],
   "source": [],
   "metadata": {
    "collapsed": false,
    "pycharm": {
     "name": "#%%\n"
    }
   }
  },
  {
   "cell_type": "code",
   "execution_count": 13,
   "outputs": [],
   "source": [],
   "metadata": {
    "collapsed": false,
    "pycharm": {
     "name": "#%%\n"
    }
   }
  },
  {
   "cell_type": "code",
   "execution_count": 13,
   "outputs": [],
   "source": [],
   "metadata": {
    "collapsed": false,
    "pycharm": {
     "name": "#%%\n"
    }
   }
  },
  {
   "cell_type": "code",
   "execution_count": 13,
   "outputs": [],
   "source": [],
   "metadata": {
    "collapsed": false,
    "pycharm": {
     "name": "#%%\n"
    }
   }
  }
 ],
 "metadata": {
  "kernelspec": {
   "display_name": "Python 3",
   "language": "python",
   "name": "python3"
  },
  "language_info": {
   "codemirror_mode": {
    "name": "ipython",
    "version": 2
   },
   "file_extension": ".py",
   "mimetype": "text/x-python",
   "name": "python",
   "nbconvert_exporter": "python",
   "pygments_lexer": "ipython2",
   "version": "2.7.6"
  }
 },
 "nbformat": 4,
 "nbformat_minor": 0
}