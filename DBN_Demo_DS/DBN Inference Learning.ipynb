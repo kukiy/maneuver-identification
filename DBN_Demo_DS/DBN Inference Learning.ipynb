{
 "cells": [
  {
   "cell_type": "code",
   "execution_count": 1,
   "metadata": {
    "collapsed": true
   },
   "outputs": [],
   "source": [
    "from pgmpy.factors.discrete import TabularCPD\n",
    "from pgmpy.models import DynamicBayesianNetwork as DBN\n",
    "from pgmpy.inference import DBNInference"
   ]
  },
  {
   "cell_type": "code",
   "execution_count": 2,
   "outputs": [],
   "source": [
    "# 实例化贝叶斯网络并添加网络节点和CPD\n",
    "dbnet = DBN()\n",
    "dbnet.add_edges_from([(('Z', 0), ('X', 0)), (('X', 0), ('Y', 0)),\n",
    "                      (('Z', 0), ('Z', 1))])\n",
    "\n",
    "z_start_cpd = TabularCPD(('Z', 0), 2, [[0.5], [0.5]])\n",
    "x_i_cpd = TabularCPD(('X', 0), 2, [[0.6, 0.9],\n",
    "                                   [0.4, 0.1]],\n",
    "                     evidence=[('Z', 0)],\n",
    "                     evidence_card=[2])\n",
    "y_i_cpd = TabularCPD(('Y', 0), 2, [[0.2, 0.3],\n",
    "                                   [0.8, 0.7]],\n",
    "                     evidence=[('X', 0)],\n",
    "                     evidence_card=[2])\n",
    "z_trans_cpd = TabularCPD(('Z', 1), 2, [[0.7, 0.4],\n",
    "                                       [0.3, 0.6]],\n",
    "                         evidence=[('Z', 0)],\n",
    "                         evidence_card=[2])\n",
    "dbnet.add_cpds(z_start_cpd, z_trans_cpd, x_i_cpd, y_i_cpd)"
   ],
   "metadata": {
    "collapsed": false,
    "pycharm": {
     "name": "#%%\n"
    }
   }
  },
  {
   "cell_type": "code",
   "execution_count": 3,
   "outputs": [
    {
     "data": {
      "text/plain": "[<TabularCPD representing P(('Z', 0):2) at 0x1c714be9040>,\n <TabularCPD representing P(('Y', 0):2 | ('X', 0):2) at 0x1c714be9070>,\n <TabularCPD representing P(('X', 0):2 | ('Z', 0):2) at 0x1c714bcee80>,\n <TabularCPD representing P(('Z', 1):2 | ('Z', 0):2) at 0x1c714be94f0>]"
     },
     "execution_count": 3,
     "metadata": {},
     "output_type": "execute_result"
    }
   ],
   "source": [
    "dbnet.get_cpds()  # 此时的条件概率只有四个节点的！"
   ],
   "metadata": {
    "collapsed": false,
    "pycharm": {
     "name": "#%%\n"
    }
   }
  },
  {
   "cell_type": "code",
   "execution_count": 4,
   "outputs": [],
   "source": [
    "# 网络初始化，为了将 网络中隐藏的边和概率都补齐\n",
    "dbnet.initialize_initial_state()\n",
    "dbn_inf = DBNInference(dbnet)"
   ],
   "metadata": {
    "collapsed": false,
    "pycharm": {
     "name": "#%%\n"
    }
   }
  },
  {
   "cell_type": "code",
   "execution_count": 5,
   "outputs": [
    {
     "data": {
      "text/plain": "[<TabularCPD representing P(('Z', 0):2) at 0x1c714be9040>,\n <TabularCPD representing P(('Y', 0):2 | ('X', 0):2) at 0x1c714be9070>,\n <TabularCPD representing P(('X', 0):2 | ('Z', 0):2) at 0x1c714bcee80>,\n <TabularCPD representing P(('Z', 1):2 | ('Z', 0):2) at 0x1c714be94f0>,\n <TabularCPD representing P((Y, 1):2 | (X, 1):2) at 0x1c714bce2e0>,\n <TabularCPD representing P((X, 1):2 | (Z, 1):2) at 0x1c714bc2c10>]"
     },
     "execution_count": 5,
     "metadata": {},
     "output_type": "execute_result"
    }
   ],
   "source": [
    "dbnet.get_cpds()  # 初始化的网络，具有完整的6个节点的CPD"
   ],
   "metadata": {
    "collapsed": false,
    "pycharm": {
     "name": "#%%\n"
    }
   }
  },
  {
   "cell_type": "markdown",
   "source": [
    "# 此处为（\"Z\", 1）人工设置的先验概率\n",
    "#### 先验概率也可以通过数据进行学习"
   ],
   "metadata": {
    "collapsed": false,
    "pycharm": {
     "name": "#%% md\n"
    }
   }
  },
  {
   "cell_type": "code",
   "execution_count": 6,
   "outputs": [
    {
     "name": "stdout",
     "output_type": "stream",
     "text": [
      "+-------------+-------------+-------------+\n",
      "| ('Z', 0)    | ('Z', 0)(0) | ('Z', 0)(1) |\n",
      "+-------------+-------------+-------------+\n",
      "| ('Z', 1)(0) | 0.7         | 0.4         |\n",
      "+-------------+-------------+-------------+\n",
      "| ('Z', 1)(1) | 0.3         | 0.6         |\n",
      "+-------------+-------------+-------------+\n"
     ]
    }
   ],
   "source": [
    "print(dbnet.get_cpds()[3])"
   ],
   "metadata": {
    "collapsed": false,
    "pycharm": {
     "name": "#%%\n"
    }
   }
  },
  {
   "cell_type": "markdown",
   "source": [
    "#  {('X', 1):0, ('Y', 1):1}条件下，（\"Z\", 1）的后验概率"
   ],
   "metadata": {
    "collapsed": false,
    "pycharm": {
     "name": "#%% md\n"
    }
   }
  },
  {
   "cell_type": "code",
   "execution_count": 7,
   "outputs": [
    {
     "data": {
      "text/plain": "  0%|          | 0/1 [00:00<?, ?it/s]",
      "application/vnd.jupyter.widget-view+json": {
       "version_major": 2,
       "version_minor": 0,
       "model_id": "29c3e7cd7ed548b480923e96a134c74d"
      }
     },
     "metadata": {},
     "output_type": "display_data"
    },
    {
     "data": {
      "text/plain": "  0%|          | 0/1 [00:00<?, ?it/s]",
      "application/vnd.jupyter.widget-view+json": {
       "version_major": 2,
       "version_minor": 0,
       "model_id": "42f0d51ec47844a4b1bb2ae021c5302a"
      }
     },
     "metadata": {},
     "output_type": "display_data"
    },
    {
     "name": "stdout",
     "output_type": "stream",
     "text": [
      "+-------------+-----------------+\n",
      "| ('Z', 1)    |   phi(('Z', 1)) |\n",
      "+=============+=================+\n",
      "| ('Z', 1)(0) |          0.4490 |\n",
      "+-------------+-----------------+\n",
      "| ('Z', 1)(1) |          0.5510 |\n",
      "+-------------+-----------------+\n"
     ]
    }
   ],
   "source": [
    "print(dbn_inf.query([('Z', 1)], {('X', 1):0, ('Y', 1):1})[('Z', 1)])"
   ],
   "metadata": {
    "collapsed": false,
    "pycharm": {
     "name": "#%%\n"
    }
   }
  },
  {
   "cell_type": "markdown",
   "source": [
    "#  {('X', 1):0, ('Y', 1):1, ('Z', 0):0} 条件下，（\"Z\", 1）的后验概率————明先增大（\"Z\", 1）取 0 的概率"
   ],
   "metadata": {
    "collapsed": false,
    "pycharm": {
     "name": "#%% md\n"
    }
   }
  },
  {
   "cell_type": "code",
   "execution_count": 8,
   "outputs": [
    {
     "data": {
      "text/plain": "0it [00:00, ?it/s]",
      "application/vnd.jupyter.widget-view+json": {
       "version_major": 2,
       "version_minor": 0,
       "model_id": "fa209498b4134cd7bf98efa47c04e08c"
      }
     },
     "metadata": {},
     "output_type": "display_data"
    },
    {
     "data": {
      "text/plain": "0it [00:00, ?it/s]",
      "application/vnd.jupyter.widget-view+json": {
       "version_major": 2,
       "version_minor": 0,
       "model_id": "f16a411ec02a47cba7b9e63d36588fe2"
      }
     },
     "metadata": {},
     "output_type": "display_data"
    },
    {
     "name": "stdout",
     "output_type": "stream",
     "text": [
      "+-------------+-----------------+\n",
      "| ('Z', 1)    |   phi(('Z', 1)) |\n",
      "+=============+=================+\n",
      "| ('Z', 1)(0) |          0.6087 |\n",
      "+-------------+-----------------+\n",
      "| ('Z', 1)(1) |          0.3913 |\n",
      "+-------------+-----------------+\n"
     ]
    }
   ],
   "source": [
    "print(dbn_inf.query([('Z', 1)], {('X', 1):0, ('Y', 1):1, ('Z', 0):0})[('Z', 1)])"
   ],
   "metadata": {
    "collapsed": false,
    "pycharm": {
     "name": "#%%\n"
    }
   }
  },
  {
   "cell_type": "markdown",
   "source": [
    "#  {('X', 1):0, ('Y', 1):1, ('Z', 0):1} 条件下，（\"Z\", 1）的后验概率————明先增大（\"Z\", 1）取 1 的概率"
   ],
   "metadata": {
    "collapsed": false,
    "pycharm": {
     "name": "#%% md\n"
    }
   }
  },
  {
   "cell_type": "code",
   "execution_count": 9,
   "outputs": [
    {
     "data": {
      "text/plain": "0it [00:00, ?it/s]",
      "application/vnd.jupyter.widget-view+json": {
       "version_major": 2,
       "version_minor": 0,
       "model_id": "6937b77e2b3c4274a321a438e9a3d348"
      }
     },
     "metadata": {},
     "output_type": "display_data"
    },
    {
     "data": {
      "text/plain": "0it [00:00, ?it/s]",
      "application/vnd.jupyter.widget-view+json": {
       "version_major": 2,
       "version_minor": 0,
       "model_id": "baf615b05e7f43ec8ba5ce8fd65ef84a"
      }
     },
     "metadata": {},
     "output_type": "display_data"
    },
    {
     "name": "stdout",
     "output_type": "stream",
     "text": [
      "+-------------+-----------------+\n",
      "| ('Z', 1)    |   phi(('Z', 1)) |\n",
      "+=============+=================+\n",
      "| ('Z', 1)(0) |          0.3077 |\n",
      "+-------------+-----------------+\n",
      "| ('Z', 1)(1) |          0.6923 |\n",
      "+-------------+-----------------+\n"
     ]
    }
   ],
   "source": [
    "print(dbn_inf.query([('Z', 1)], {('X', 1):0, ('Y', 1):1, ('Z', 0):1})[('Z', 1)])"
   ],
   "metadata": {
    "collapsed": false,
    "pycharm": {
     "name": "#%%\n"
    }
   }
  },
  {
   "cell_type": "markdown",
   "source": [
    "# 以上就是基于先验概率模型，再得到观测节点信息后，节点概率变化的直观展示"
   ],
   "metadata": {
    "collapsed": false
   }
  }
 ],
 "metadata": {
  "kernelspec": {
   "display_name": "Python 3",
   "language": "python",
   "name": "python3"
  },
  "language_info": {
   "codemirror_mode": {
    "name": "ipython",
    "version": 2
   },
   "file_extension": ".py",
   "mimetype": "text/x-python",
   "name": "python",
   "nbconvert_exporter": "python",
   "pygments_lexer": "ipython2",
   "version": "2.7.6"
  }
 },
 "nbformat": 4,
 "nbformat_minor": 0
}