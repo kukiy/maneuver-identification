{
 "cells": [
  {
   "cell_type": "markdown",
   "source": [
    "# 计算两条一维序列的 DTW 值，采用绝对值，构建距离矩阵"
   ],
   "metadata": {
    "collapsed": false,
    "pycharm": {
     "name": "#%% md\n"
    }
   }
  },
  {
   "cell_type": "code",
   "execution_count": 1,
   "metadata": {
    "collapsed": true
   },
   "outputs": [
    {
     "name": "stdout",
     "output_type": "stream",
     "text": [
      "2.0\n"
     ]
    },
    {
     "data": {
      "text/plain": "<Figure size 432x288 with 1 Axes>",
      "image/png": "[encoded data removed]"
     },
     "metadata": {
      "needs_background": "light"
     },
     "output_type": "display_data"
    }
   ],
   "source": [
    "import numpy as np\n",
    "#来自官方库的示例，代码未动，但注解原创。\n",
    "#y是x的子序列，从x的第三个数字开始一一匹配\n",
    "x = np.array([2, 0, 1, 1, 2, 4, 2, 1, 2, 0]).reshape(-1, 1)\n",
    "y = np.array([1, 1, 2, 4, 2, 1, 2, 0]).reshape(-1, 1)\n",
    "\n",
    "from dtw import dtw\n",
    "#曼哈顿距离定义，各点相减的绝对值\n",
    "manhattan_distance = lambda x, y: np.abs(x - y)\n",
    "#计算出总距离，耗费矩阵，累计耗费矩阵，在矩阵上的路径\n",
    "d, cost_matrix, acc_cost_matrix, path = dtw(x, y, dist=manhattan_distance)\n",
    "print(d)\n",
    "#计算得出2.0\n",
    "import matplotlib.pyplot as plt\n",
    "plt.imshow(acc_cost_matrix.T, origin='lower', cmap='gray', interpolation='nearest')\n",
    "#lower参数表示上下颠倒，注意这里矩阵行列转置\n",
    "plt.plot(path[0], path[1], 'w')\n",
    "#path包含两个array\n",
    "plt.show()"
   ]
  },
  {
   "cell_type": "markdown",
   "source": [
    "# 针对向量序列，计算两个向量的距离"
   ],
   "metadata": {
    "collapsed": false
   }
  },
  {
   "cell_type": "code",
   "execution_count": 2,
   "outputs": [
    {
     "name": "stdout",
     "output_type": "stream",
     "text": [
      "计算出来的两个序列之间的DTW距离为： 59.0\n"
     ]
    },
    {
     "data": {
      "text/plain": "<Figure size 432x288 with 1 Axes>",
      "image/png": "[encoded data removed]"
     },
     "metadata": {
      "needs_background": "light"
     },
     "output_type": "display_data"
    }
   ],
   "source": [
    "x_ = np.array([[5, 5, 6, 7], [0, 2, 1, 5],[1, 1, 1, 1], [4, 8, 9, 5], [2, 1, 5, 5]])\n",
    "y_ = np.array([[1, 1, 0, 2], [2, 1, 1, 3],[0, 0, 0, 0]])\n",
    "manhattan_distance = lambda x_, y_: np.sum(np.abs(x_ - y_))\n",
    "#计算出总距离，耗费矩阵，累计耗费矩阵，在矩阵上的路径\n",
    "d_, cost_matrix_, acc_cost_matrix_, path_ = dtw(x_, y_, dist=manhattan_distance)\n",
    "print('计算出来的两个序列之间的DTW距离为：', d_)\n",
    "#计算得出 2.0\n",
    "import matplotlib.pyplot as plt\n",
    "plt.imshow(acc_cost_matrix_.T, origin='lower', cmap='gray', interpolation='nearest')\n",
    "#lower参数表示上下颠倒，注意这里矩阵行列转置\n",
    "plt.plot(path_[0], path_[1], 'w')\n",
    "#path包含两个array\n",
    "plt.show()"
   ],
   "metadata": {
    "collapsed": false,
    "pycharm": {
     "name": "#%%\n"
    }
   }
  }
 ],
 "metadata": {
  "kernelspec": {
   "display_name": "Python 3",
   "language": "python",
   "name": "python3"
  },
  "language_info": {
   "codemirror_mode": {
    "name": "ipython",
    "version": 2
   },
   "file_extension": ".py",
   "mimetype": "text/x-python",
   "name": "python",
   "nbconvert_exporter": "python",
   "pygments_lexer": "ipython2",
   "version": "2.7.6"
  }
 },
 "nbformat": 4,
 "nbformat_minor": 0
}