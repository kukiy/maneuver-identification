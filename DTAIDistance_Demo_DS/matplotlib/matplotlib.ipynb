{
 "cells": [
  {
   "cell_type": "code",
   "execution_count": 1,
   "metadata": {
    "collapsed": true
   },
   "outputs": [],
   "source": [
    "import matplotlib.pyplot as plt"
   ]
  },
  {
   "cell_type": "markdown",
   "source": [
    "Matplotlib的绘图结果可以有各种输出形式，例如常见用的将绘图结果嵌入到wxpython、pygtk、Qt等GUI窗体中，或者将绘图结果输出为图片文件，或在Web应用程序中输出绘图结果。<br>\n",
    "为了便于用户实现这些不同的输出，Matplotlib在设计上对用户编写的绘图代码和对不同输出形式的处理方法进行了隔离，因此出现了前端（frontend）和后端的概念（backend）。后端可以认为就是不同输出形式的处理功能，前端可以认为就是用户所要绘制的图像。<br>\n",
    "就像Web开发中的前后端分离一样，用户只用关心如何绘图即可，Matplotlib会根据用户选择的后端进行输出。这样相同的前端绘图代码，就可以便捷地实现各种绘图输出。\n"
   ],
   "metadata": {
    "collapsed": false,
    "pycharm": {
     "name": "#%% md\n"
    }
   }
  },
  {
   "cell_type": "markdown",
   "source": [
    "## Matplotlib前后端分离原理\n",
    "### 参考： https://blog.csdn.net/mighty13/article/details/112600094"
   ],
   "metadata": {
    "collapsed": false,
    "pycharm": {
     "name": "#%% md\n"
    }
   }
  },
  {
   "cell_type": "markdown",
   "source": [
    "Matplotlib中有四个模块与后端相关，matplotlib.backend_bases，matplotlib.backend_managers，matplotlib.backend_tools和matplotlib.backends，通过这四个模块Matplotlib实现前后端分离。<br>\n"
   ],
   "metadata": {
    "collapsed": false,
    "pycharm": {
     "name": "#%% md\n"
    }
   }
  },
  {
   "cell_type": "markdown",
   "source": [
    "# 默认值和格式"
   ],
   "metadata": {
    "collapsed": false,
    "pycharm": {
     "name": "#%% md\n"
    }
   }
  },
  {
   "cell_type": "code",
   "execution_count": null,
   "outputs": [],
   "source": [
    "\"\"\"\n",
    "matplotlib.rcParams: RcParams用于处理默认 Matplotlib 值的实例。\n",
    "\"\"\"\n",
    "# 使用 plt.rcParams 返回这个 RcParams 字典，它的键与给定的模式匹配。"
   ],
   "metadata": {
    "collapsed": false,
    "pycharm": {
     "name": "#%%\n"
    }
   }
  },
  {
   "cell_type": "code",
   "execution_count": 9,
   "outputs": [
    {
     "data": {
      "text/plain": "RcParams({'_internal.classic_mode': False,\n          'agg.path.chunksize': 0,\n          'animation.bitrate': -1,\n          'animation.codec': 'h264',\n          'animation.convert_args': [],\n          'animation.convert_path': 'convert',\n          'animation.embed_limit': 20.0,\n          'animation.ffmpeg_args': [],\n          'animation.ffmpeg_path': 'ffmpeg',\n          'animation.frame_format': 'png',\n          'animation.html': 'none',\n          'animation.writer': 'ffmpeg',\n          'axes.autolimit_mode': 'data',\n          'axes.axisbelow': 'line',\n          'axes.edgecolor': 'black',\n          'axes.facecolor': 'white',\n          'axes.formatter.limits': [-5, 6],\n          'axes.formatter.min_exponent': 0,\n          'axes.formatter.offset_threshold': 4,\n          'axes.formatter.use_locale': False,\n          'axes.formatter.use_mathtext': False,\n          'axes.formatter.useoffset': True,\n          'axes.grid': False,\n          'axes.grid.axis': 'both',\n          'axes.grid.which': 'major',\n          'axes.labelcolor': 'black',\n          'axes.labelpad': 4.0,\n          'axes.labelsize': 'medium',\n          'axes.labelweight': 'normal',\n          'axes.linewidth': 0.8,\n          'axes.prop_cycle': cycler('color', ['#1f77b4', '#ff7f0e', '#2ca02c', '#d62728', '#9467bd', '#8c564b', '#e377c2', '#7f7f7f', '#bcbd22', '#17becf']),\n          'axes.spines.bottom': True,\n          'axes.spines.left': True,\n          'axes.spines.right': True,\n          'axes.spines.top': True,\n          'axes.titlecolor': 'auto',\n          'axes.titlelocation': 'center',\n          'axes.titlepad': 6.0,\n          'axes.titlesize': 'large',\n          'axes.titleweight': 'normal',\n          'axes.titley': None,\n          'axes.unicode_minus': True,\n          'axes.xmargin': 0.05,\n          'axes.ymargin': 0.05,\n          'axes.zmargin': 0.05,\n          'axes3d.grid': True,\n          'backend': 'module://matplotlib_inline.backend_inline',\n          'backend_fallback': True,\n          'boxplot.bootstrap': None,\n          'boxplot.boxprops.color': 'black',\n          'boxplot.boxprops.linestyle': '-',\n          'boxplot.boxprops.linewidth': 1.0,\n          'boxplot.capprops.color': 'black',\n          'boxplot.capprops.linestyle': '-',\n          'boxplot.capprops.linewidth': 1.0,\n          'boxplot.flierprops.color': 'black',\n          'boxplot.flierprops.linestyle': 'none',\n          'boxplot.flierprops.linewidth': 1.0,\n          'boxplot.flierprops.marker': 'o',\n          'boxplot.flierprops.markeredgecolor': 'black',\n          'boxplot.flierprops.markeredgewidth': 1.0,\n          'boxplot.flierprops.markerfacecolor': 'none',\n          'boxplot.flierprops.markersize': 6.0,\n          'boxplot.meanline': False,\n          'boxplot.meanprops.color': 'C2',\n          'boxplot.meanprops.linestyle': '--',\n          'boxplot.meanprops.linewidth': 1.0,\n          'boxplot.meanprops.marker': '^',\n          'boxplot.meanprops.markeredgecolor': 'C2',\n          'boxplot.meanprops.markerfacecolor': 'C2',\n          'boxplot.meanprops.markersize': 6.0,\n          'boxplot.medianprops.color': 'C1',\n          'boxplot.medianprops.linestyle': '-',\n          'boxplot.medianprops.linewidth': 1.0,\n          'boxplot.notch': False,\n          'boxplot.patchartist': False,\n          'boxplot.showbox': True,\n          'boxplot.showcaps': True,\n          'boxplot.showfliers': True,\n          'boxplot.showmeans': False,\n          'boxplot.vertical': True,\n          'boxplot.whiskerprops.color': 'black',\n          'boxplot.whiskerprops.linestyle': '-',\n          'boxplot.whiskerprops.linewidth': 1.0,\n          'boxplot.whiskers': 1.5,\n          'contour.corner_mask': True,\n          'contour.linewidth': None,\n          'contour.negative_linestyle': 'dashed',\n          'date.autoformatter.day': '%Y-%m-%d',\n          'date.autoformatter.hour': '%m-%d %H',\n          'date.autoformatter.microsecond': '%M:%S.%f',\n          'date.autoformatter.minute': '%d %H:%M',\n          'date.autoformatter.month': '%Y-%m',\n          'date.autoformatter.second': '%H:%M:%S',\n          'date.autoformatter.year': '%Y',\n          'date.converter': 'auto',\n          'date.epoch': '1970-01-01T00:00:00',\n          'date.interval_multiples': True,\n          'docstring.hardcopy': False,\n          'errorbar.capsize': 0.0,\n          'figure.autolayout': False,\n          'figure.constrained_layout.h_pad': 0.04167,\n          'figure.constrained_layout.hspace': 0.02,\n          'figure.constrained_layout.use': False,\n          'figure.constrained_layout.w_pad': 0.04167,\n          'figure.constrained_layout.wspace': 0.02,\n          'figure.dpi': 72.0,\n          'figure.edgecolor': (1, 1, 1, 0),\n          'figure.facecolor': (1, 1, 1, 0),\n          'figure.figsize': [6.0, 4.0],\n          'figure.frameon': True,\n          'figure.max_open_warning': 20,\n          'figure.raise_window': True,\n          'figure.subplot.bottom': 0.125,\n          'figure.subplot.hspace': 0.2,\n          'figure.subplot.left': 0.125,\n          'figure.subplot.right': 0.9,\n          'figure.subplot.top': 0.88,\n          'figure.subplot.wspace': 0.2,\n          'figure.titlesize': 'large',\n          'figure.titleweight': 'normal',\n          'font.cursive': ['Apple Chancery',\n                           'Textile',\n                           'Zapf Chancery',\n                           'Sand',\n                           'Script MT',\n                           'Felipa',\n                           'Comic Neue',\n                           'Comic Sans MS',\n                           'cursive'],\n          'font.family': ['sans-serif'],\n          'font.fantasy': ['Chicago',\n                           'Charcoal',\n                           'Impact',\n                           'Western',\n                           'Humor Sans',\n                           'xkcd',\n                           'fantasy'],\n          'font.monospace': ['DejaVu Sans Mono',\n                             'Bitstream Vera Sans Mono',\n                             'Computer Modern Typewriter',\n                             'Andale Mono',\n                             'Nimbus Mono L',\n                             'Courier New',\n                             'Courier',\n                             'Fixed',\n                             'Terminal',\n                             'monospace'],\n          'font.sans-serif': ['DejaVu Sans',\n                              'Bitstream Vera Sans',\n                              'Computer Modern Sans Serif',\n                              'Lucida Grande',\n                              'Verdana',\n                              'Geneva',\n                              'Lucid',\n                              'Arial',\n                              'Helvetica',\n                              'Avant Garde',\n                              'sans-serif'],\n          'font.serif': ['DejaVu Serif',\n                         'Bitstream Vera Serif',\n                         'Computer Modern Roman',\n                         'New Century Schoolbook',\n                         'Century Schoolbook L',\n                         'Utopia',\n                         'ITC Bookman',\n                         'Bookman',\n                         'Nimbus Roman No9 L',\n                         'Times New Roman',\n                         'Times',\n                         'Palatino',\n                         'Charter',\n                         'serif'],\n          'font.size': 10.0,\n          'font.stretch': 'normal',\n          'font.style': 'normal',\n          'font.variant': 'normal',\n          'font.weight': 'normal',\n          'grid.alpha': 1.0,\n          'grid.color': '#b0b0b0',\n          'grid.linestyle': '-',\n          'grid.linewidth': 0.8,\n          'hatch.color': 'black',\n          'hatch.linewidth': 1.0,\n          'hist.bins': 10,\n          'image.aspect': 'equal',\n          'image.cmap': 'viridis',\n          'image.composite_image': True,\n          'image.interpolation': 'antialiased',\n          'image.lut': 256,\n          'image.origin': 'upper',\n          'image.resample': True,\n          'interactive': True,\n          'keymap.back': ['left', 'c', 'backspace', 'MouseButton.BACK'],\n          'keymap.copy': ['ctrl+c', 'cmd+c'],\n          'keymap.forward': ['right', 'v', 'MouseButton.FORWARD'],\n          'keymap.fullscreen': ['f', 'ctrl+f'],\n          'keymap.grid': ['g'],\n          'keymap.grid_minor': ['G'],\n          'keymap.help': ['f1'],\n          'keymap.home': ['h', 'r', 'home'],\n          'keymap.pan': ['p'],\n          'keymap.quit': ['ctrl+w', 'cmd+w', 'q'],\n          'keymap.quit_all': [],\n          'keymap.save': ['s', 'ctrl+s'],\n          'keymap.xscale': ['k', 'L'],\n          'keymap.yscale': ['l'],\n          'keymap.zoom': ['o'],\n          'legend.borderaxespad': 0.5,\n          'legend.borderpad': 0.4,\n          'legend.columnspacing': 2.0,\n          'legend.edgecolor': '0.8',\n          'legend.facecolor': 'inherit',\n          'legend.fancybox': True,\n          'legend.fontsize': 'medium',\n          'legend.framealpha': 0.8,\n          'legend.frameon': True,\n          'legend.handleheight': 0.7,\n          'legend.handlelength': 2.0,\n          'legend.handletextpad': 0.8,\n          'legend.labelcolor': 'None',\n          'legend.labelspacing': 0.5,\n          'legend.loc': 'best',\n          'legend.markerscale': 1.0,\n          'legend.numpoints': 1,\n          'legend.scatterpoints': 1,\n          'legend.shadow': False,\n          'legend.title_fontsize': None,\n          'lines.antialiased': True,\n          'lines.color': 'C0',\n          'lines.dash_capstyle': <CapStyle.butt: 'butt'>,\n          'lines.dash_joinstyle': <JoinStyle.round: 'round'>,\n          'lines.dashdot_pattern': [6.4, 1.6, 1.0, 1.6],\n          'lines.dashed_pattern': [3.7, 1.6],\n          'lines.dotted_pattern': [1.0, 1.65],\n          'lines.linestyle': '-',\n          'lines.linewidth': 1.5,\n          'lines.marker': 'None',\n          'lines.markeredgecolor': 'auto',\n          'lines.markeredgewidth': 1.0,\n          'lines.markerfacecolor': 'auto',\n          'lines.markersize': 6.0,\n          'lines.scale_dashes': True,\n          'lines.solid_capstyle': <CapStyle.projecting: 'projecting'>,\n          'lines.solid_joinstyle': <JoinStyle.round: 'round'>,\n          'markers.fillstyle': 'full',\n          'mathtext.bf': 'sans:bold',\n          'mathtext.cal': 'cursive',\n          'mathtext.default': 'it',\n          'mathtext.fallback': 'cm',\n          'mathtext.fontset': 'dejavusans',\n          'mathtext.it': 'sans:italic',\n          'mathtext.rm': 'sans',\n          'mathtext.sf': 'sans',\n          'mathtext.tt': 'monospace',\n          'patch.antialiased': True,\n          'patch.edgecolor': 'black',\n          'patch.facecolor': 'C0',\n          'patch.force_edgecolor': False,\n          'patch.linewidth': 1.0,\n          'path.effects': [],\n          'path.simplify': True,\n          'path.simplify_threshold': 0.111111111111,\n          'path.sketch': None,\n          'path.snap': True,\n          'pcolor.shading': 'auto',\n          'pcolormesh.snap': True,\n          'pdf.compression': 6,\n          'pdf.fonttype': 3,\n          'pdf.inheritcolor': False,\n          'pdf.use14corefonts': False,\n          'pgf.preamble': '',\n          'pgf.rcfonts': True,\n          'pgf.texsystem': 'xelatex',\n          'polaraxes.grid': True,\n          'ps.distiller.res': 6000,\n          'ps.fonttype': 3,\n          'ps.papersize': 'letter',\n          'ps.useafm': False,\n          'ps.usedistiller': None,\n          'savefig.bbox': None,\n          'savefig.directory': '~',\n          'savefig.dpi': 'figure',\n          'savefig.edgecolor': 'auto',\n          'savefig.facecolor': 'auto',\n          'savefig.format': 'png',\n          'savefig.orientation': 'portrait',\n          'savefig.pad_inches': 0.1,\n          'savefig.transparent': False,\n          'scatter.edgecolors': 'face',\n          'scatter.marker': 'o',\n          'svg.fonttype': 'path',\n          'svg.hashsalt': None,\n          'svg.image_inline': True,\n          'text.antialiased': True,\n          'text.color': 'black',\n          'text.hinting': 'force_autohint',\n          'text.hinting_factor': 8,\n          'text.kerning_factor': 0,\n          'text.latex.preamble': '',\n          'text.usetex': False,\n          'timezone': 'UTC',\n          'tk.window_focus': False,\n          'toolbar': 'toolbar2',\n          'webagg.address': '127.0.0.1',\n          'webagg.open_in_browser': True,\n          'webagg.port': 8988,\n          'webagg.port_retries': 50,\n          'xaxis.labellocation': 'center',\n          'xtick.alignment': 'center',\n          'xtick.bottom': True,\n          'xtick.color': 'black',\n          'xtick.direction': 'out',\n          'xtick.labelbottom': True,\n          'xtick.labelcolor': 'inherit',\n          'xtick.labelsize': 'medium',\n          'xtick.labeltop': False,\n          'xtick.major.bottom': True,\n          'xtick.major.pad': 3.5,\n          'xtick.major.size': 3.5,\n          'xtick.major.top': True,\n          'xtick.major.width': 0.8,\n          'xtick.minor.bottom': True,\n          'xtick.minor.pad': 3.4,\n          'xtick.minor.size': 2.0,\n          'xtick.minor.top': True,\n          'xtick.minor.visible': False,\n          'xtick.minor.width': 0.6,\n          'xtick.top': False,\n          'yaxis.labellocation': 'center',\n          'ytick.alignment': 'center_baseline',\n          'ytick.color': 'black',\n          'ytick.direction': 'out',\n          'ytick.labelcolor': 'inherit',\n          'ytick.labelleft': True,\n          'ytick.labelright': False,\n          'ytick.labelsize': 'medium',\n          'ytick.left': True,\n          'ytick.major.left': True,\n          'ytick.major.pad': 3.5,\n          'ytick.major.right': True,\n          'ytick.major.size': 3.5,\n          'ytick.major.width': 0.8,\n          'ytick.minor.left': True,\n          'ytick.minor.pad': 3.4,\n          'ytick.minor.right': True,\n          'ytick.minor.size': 2.0,\n          'ytick.minor.visible': False,\n          'ytick.minor.width': 0.6,\n          'ytick.right': False})"
     },
     "execution_count": 9,
     "metadata": {},
     "output_type": "execute_result"
    }
   ],
   "source": [
    "# 可以通过修改，rcParams 中的 key-value 设置图片默认的属性\n",
    "# plt.rcParams['AA'] = 'BB' # 通过rc参数设置图表的AA属性为BB值\n",
    "plt.rcParams\n",
    "\"\"\"\n",
    "rc参数的的常用的基本种类：\n",
    "animation开头：\n",
    "font开头：字体设置\n",
    "axes开头：内框画布\n",
    "figure开头：外框画布\n",
    "boxplot开头：箱线图\n",
    "grid开头：网格标签\n",
    "image开头：图片设置\n",
    "keymap开头：快捷键设置\n",
    "legend开头：图例设置\n",
    "lines开头：线条设置\n",
    "mathtext开头：数学公式字体相关\n",
    "xtick开头：x轴标签\n",
    "ytick开头：y轴标签\n",
    "\"\"\""
   ],
   "metadata": {
    "collapsed": false,
    "pycharm": {
     "name": "#%%\n"
    }
   }
  },
  {
   "cell_type": "code",
   "execution_count": 11,
   "outputs": [],
   "source": [
    "plt.rcdefaults()  # rcParams从 Matplotlib 的内部默认样式恢复。"
   ],
   "metadata": {
    "collapsed": false,
    "pycharm": {
     "name": "#%%\n"
    }
   }
  },
  {
   "cell_type": "markdown",
   "source": [
    "## axes 类, 它指定了一个有数值范围限制的绘图区域\n",
    "在一个给定的画布（figure）中可以包含多个 axes 对象，但是同一个 axes 对象只能在一个画布中使用。<br>\n",
    "figure 是一块画布，axes 是画布的区域\n"
   ],
   "metadata": {
    "collapsed": false,
    "pycharm": {
     "name": "#%% md\n"
    }
   }
  },
  {
   "cell_type": "markdown",
   "source": [
    "![](./matplotlib结构.png)"
   ],
   "metadata": {
    "collapsed": false,
    "pycharm": {
     "name": "#%% md\n"
    }
   }
  },
  {
   "cell_type": "markdown",
   "source": [
    "![](./axes的作用.png)"
   ],
   "metadata": {
    "collapsed": false,
    "pycharm": {
     "name": "#%% md\n"
    }
   }
  },
  {
   "cell_type": "code",
   "execution_count": 15,
   "outputs": [
    {
     "data": {
      "text/plain": "<Figure size 640x480 with 1 Axes>",
      "image/png": "[encoded data removed]"
     },
     "metadata": {},
     "output_type": "display_data"
    }
   ],
   "source": [
    "import matplotlib.pyplot as plt\n",
    "import math\n",
    "import numpy as np\n",
    "x=np.arange(1,10)\n",
    "y=x**2\n",
    "\n",
    "\n",
    "#plt.plot()\n",
    "# plt.figure()\n",
    "# plt.plot(x,y)\n",
    "# plt.show()\n",
    "\n",
    "\n",
    "#ax.plot()\n",
    "fig,ax=plt.subplots()\n",
    "ax.plot(x,y)\n",
    "plt.show()\n",
    "\n",
    "# 结果是一样的，区别在于：\n",
    "# （1）plt.plot()先生成一个figure画布，然后在这个画布上隐式生成的画图区域上画图\n",
    "# （2）ax.plot()同时生成了fig和ax对象，然后用ax对象在其区域上画图，推荐使用该方式"
   ],
   "metadata": {
    "collapsed": false,
    "pycharm": {
     "name": "#%%\n"
    }
   }
  },
  {
   "cell_type": "code",
   "execution_count": null,
   "outputs": [],
   "source": [],
   "metadata": {
    "collapsed": false,
    "pycharm": {
     "name": "#%%\n"
    }
   }
  },
  {
   "cell_type": "code",
   "execution_count": null,
   "outputs": [],
   "source": [],
   "metadata": {
    "collapsed": false,
    "pycharm": {
     "name": "#%%\n"
    }
   }
  },
  {
   "cell_type": "code",
   "execution_count": null,
   "outputs": [],
   "source": [],
   "metadata": {
    "collapsed": false,
    "pycharm": {
     "name": "#%%\n"
    }
   }
  },
  {
   "cell_type": "code",
   "execution_count": null,
   "outputs": [],
   "source": [],
   "metadata": {
    "collapsed": false,
    "pycharm": {
     "name": "#%%\n"
    }
   }
  }
 ],
 "metadata": {
  "kernelspec": {
   "display_name": "Python 3",
   "language": "python",
   "name": "python3"
  },
  "language_info": {
   "codemirror_mode": {
    "name": "ipython",
    "version": 2
   },
   "file_extension": ".py",
   "mimetype": "text/x-python",
   "name": "python",
   "nbconvert_exporter": "python",
   "pygments_lexer": "ipython2",
   "version": "2.7.6"
  }
 },
 "nbformat": 4,
 "nbformat_minor": 0
}